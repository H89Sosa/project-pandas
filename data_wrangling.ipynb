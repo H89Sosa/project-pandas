{
 "cells": [
  {
   "cell_type": "markdown",
   "metadata": {},
   "source": [
    "# Setting up workspace"
   ]
  },
  {
   "cell_type": "code",
   "execution_count": 1,
   "metadata": {
    "ExecuteTime": {
     "end_time": "2020-02-06T22:38:25.404195Z",
     "start_time": "2020-02-06T22:38:24.708268Z"
    },
    "code_folding": []
   },
   "outputs": [],
   "source": [
    "# Importing needed libraries\n",
    "import re\n",
    "import pandas as pd\n",
    "import numpy as np\n",
    "import datetime\n",
    "import random\n",
    "import seaborn as sns\n",
    "import matplotlib.pyplot as plt\n",
    "from pandas.plotting import register_matplotlib_converters\n",
    "%matplotlib inline"
   ]
  },
  {
   "cell_type": "code",
   "execution_count": 2,
   "metadata": {
    "ExecuteTime": {
     "end_time": "2020-02-06T22:38:26.221859Z",
     "start_time": "2020-02-06T22:38:26.120163Z"
    },
    "code_folding": []
   },
   "outputs": [],
   "source": [
    "# Creating DataFrame with given CSV\n",
    "\n",
    "file = 'Data/sharks.csv'\n",
    "\n",
    "df = pd.read_csv(file, engine='python') # We have an error reading the CSV, so we set engine to 'python'"
   ]
  },
  {
   "cell_type": "markdown",
   "metadata": {},
   "source": [
    "# Exploring the dataset"
   ]
  },
  {
   "cell_type": "code",
   "execution_count": 3,
   "metadata": {
    "ExecuteTime": {
     "end_time": "2020-02-06T22:38:29.776671Z",
     "start_time": "2020-02-06T22:38:29.764481Z"
    }
   },
   "outputs": [
    {
     "name": "stdout",
     "output_type": "stream",
     "text": [
      "<class 'pandas.core.frame.DataFrame'>\n",
      "RangeIndex: 5992 entries, 0 to 5991\n",
      "Data columns (total 24 columns):\n",
      "Case Number               5992 non-null object\n",
      "Date                      5992 non-null object\n",
      "Year                      5992 non-null int64\n",
      "Type                      5992 non-null object\n",
      "Country                   5949 non-null object\n",
      "Area                      5590 non-null object\n",
      "Location                  5496 non-null object\n",
      "Activity                  5465 non-null object\n",
      "Name                      5792 non-null object\n",
      "Sex                       5425 non-null object\n",
      "Age                       3311 non-null object\n",
      "Injury                    5965 non-null object\n",
      "Fatal (Y/N)               5973 non-null object\n",
      "Time                      2779 non-null object\n",
      "Species                   3058 non-null object\n",
      "Investigator or Source    5977 non-null object\n",
      "pdf                       5992 non-null object\n",
      "href formula              5991 non-null object\n",
      "href                      5989 non-null object\n",
      "Case Number.1             5992 non-null object\n",
      "Case Number.2             5992 non-null object\n",
      "original order            5992 non-null int64\n",
      "Unnamed: 22               1 non-null object\n",
      "Unnamed: 23               2 non-null object\n",
      "dtypes: int64(2), object(22)\n",
      "memory usage: 1.1+ MB\n"
     ]
    }
   ],
   "source": [
    "# Taking a quick visual exploration on the DataFrame\n",
    "\n",
    "df.info()"
   ]
  },
  {
   "cell_type": "code",
   "execution_count": 4,
   "metadata": {
    "ExecuteTime": {
     "end_time": "2020-02-06T22:38:33.240996Z",
     "start_time": "2020-02-06T22:38:33.236215Z"
    }
   },
   "outputs": [
    {
     "data": {
      "text/plain": [
       "Index(['Case Number', 'Date', 'Year', 'Type', 'Country', 'Area', 'Location',\n",
       "       'Activity', 'Name', 'Sex ', 'Age', 'Injury', 'Fatal (Y/N)', 'Time',\n",
       "       'Species ', 'Investigator or Source', 'pdf', 'href formula', 'href',\n",
       "       'Case Number.1', 'Case Number.2', 'original order', 'Unnamed: 22',\n",
       "       'Unnamed: 23'],\n",
       "      dtype='object')"
      ]
     },
     "execution_count": 4,
     "metadata": {},
     "output_type": "execute_result"
    }
   ],
   "source": [
    "df.columns"
   ]
  },
  {
   "cell_type": "code",
   "execution_count": 5,
   "metadata": {
    "ExecuteTime": {
     "end_time": "2020-02-06T22:38:36.272549Z",
     "start_time": "2020-02-06T22:38:36.254447Z"
    }
   },
   "outputs": [
    {
     "name": "stdout",
     "output_type": "stream",
     "text": [
      "Our dataset has 19.15% missing values overall\n"
     ]
    }
   ],
   "source": [
    "# Counting missing values on our DataFrame:\n",
    "\n",
    "def df_total_na(df):\n",
    "    '''\n",
    "    Returns the percentage of total NULL values in the dataset\n",
    "    '''\n",
    "    total_obs = df.count().sum()\n",
    "    total_nas = df.isna().sum().sum()\n",
    "    nas_percentage = total_nas *100 / total_obs\n",
    "    \n",
    "    print(f'Our dataset has {round(nas_percentage, 2)}% missing values overall' )\n",
    "\n",
    "df_total_na(df)\n",
    "\n"
   ]
  },
  {
   "cell_type": "code",
   "execution_count": 6,
   "metadata": {
    "ExecuteTime": {
     "end_time": "2020-02-06T22:38:36.837257Z",
     "start_time": "2020-02-06T22:38:36.820322Z"
    }
   },
   "outputs": [
    {
     "name": "stdout",
     "output_type": "stream",
     "text": [
      "Case Number                0.00\n",
      "Date                       0.00\n",
      "Year                       0.00\n",
      "Type                       0.00\n",
      "Country                    0.72\n",
      "Area                       6.71\n",
      "Location                   8.28\n",
      "Activity                   8.80\n",
      "Name                       3.34\n",
      "Sex                        9.46\n",
      "Age                       44.74\n",
      "Injury                     0.45\n",
      "Fatal (Y/N)                0.32\n",
      "Time                      53.62\n",
      "Species                   48.97\n",
      "Investigator or Source     0.25\n",
      "pdf                        0.00\n",
      "href formula               0.02\n",
      "href                       0.05\n",
      "Case Number.1              0.00\n",
      "Case Number.2              0.00\n",
      "original order             0.00\n",
      "Unnamed: 22               99.98\n",
      "Unnamed: 23               99.97\n",
      "dtype: float64\n"
     ]
    }
   ],
   "source": [
    "# Also checking what columns have more count of null values\n",
    "\n",
    "def column_nulls_percentage(df):\n",
    "    '''\n",
    "    Returns a series indicating percentage of NULLS per column\n",
    "    '''\n",
    "    # .mean() gets the NULL values and divides it by the total length of the column\n",
    "    \n",
    "    return df.isna().mean().round(4) * 100\n",
    "\n",
    "\n",
    "print(column_nulls_percentage(df))"
   ]
  },
  {
   "cell_type": "code",
   "execution_count": 7,
   "metadata": {
    "ExecuteTime": {
     "end_time": "2020-02-06T22:38:41.246877Z",
     "start_time": "2020-02-06T22:38:41.242578Z"
    },
    "code_folding": []
   },
   "outputs": [
    {
     "data": {
      "text/plain": [
       "Index(['Case Number', 'Date', 'Year', 'Type', 'Country', 'Area', 'Location',\n",
       "       'Activity', 'Name', 'Sex ', 'Age', 'Injury', 'Fatal (Y/N)', 'Time',\n",
       "       'Species ', 'Investigator or Source', 'pdf', 'href formula', 'href',\n",
       "       'Case Number.1', 'Case Number.2', 'original order', 'Unnamed: 22',\n",
       "       'Unnamed: 23'],\n",
       "      dtype='object')"
      ]
     },
     "execution_count": 7,
     "metadata": {},
     "output_type": "execute_result"
    }
   ],
   "source": [
    "# Checking the column names, and analyzing if they're useful:\n",
    "df.columns"
   ]
  },
  {
   "cell_type": "code",
   "execution_count": 8,
   "metadata": {
    "ExecuteTime": {
     "end_time": "2020-02-06T22:38:47.106763Z",
     "start_time": "2020-02-06T22:38:47.098442Z"
    }
   },
   "outputs": [
    {
     "data": {
      "text/html": [
       "<div>\n",
       "<style scoped>\n",
       "    .dataframe tbody tr th:only-of-type {\n",
       "        vertical-align: middle;\n",
       "    }\n",
       "\n",
       "    .dataframe tbody tr th {\n",
       "        vertical-align: top;\n",
       "    }\n",
       "\n",
       "    .dataframe thead th {\n",
       "        text-align: right;\n",
       "    }\n",
       "</style>\n",
       "<table border=\"1\" class=\"dataframe\">\n",
       "  <thead>\n",
       "    <tr style=\"text-align: right;\">\n",
       "      <th></th>\n",
       "      <th>Date</th>\n",
       "      <th>Year</th>\n",
       "    </tr>\n",
       "  </thead>\n",
       "  <tbody>\n",
       "    <tr>\n",
       "      <td>0</td>\n",
       "      <td>18-Sep-16</td>\n",
       "      <td>2016</td>\n",
       "    </tr>\n",
       "    <tr>\n",
       "      <td>1</td>\n",
       "      <td>18-Sep-16</td>\n",
       "      <td>2016</td>\n",
       "    </tr>\n",
       "    <tr>\n",
       "      <td>2</td>\n",
       "      <td>18-Sep-16</td>\n",
       "      <td>2016</td>\n",
       "    </tr>\n",
       "    <tr>\n",
       "      <td>3</td>\n",
       "      <td>17-Sep-16</td>\n",
       "      <td>2016</td>\n",
       "    </tr>\n",
       "    <tr>\n",
       "      <td>4</td>\n",
       "      <td>16-Sep-16</td>\n",
       "      <td>2016</td>\n",
       "    </tr>\n",
       "  </tbody>\n",
       "</table>\n",
       "</div>"
      ],
      "text/plain": [
       "        Date  Year\n",
       "0  18-Sep-16  2016\n",
       "1  18-Sep-16  2016\n",
       "2  18-Sep-16  2016\n",
       "3  17-Sep-16  2016\n",
       "4  16-Sep-16  2016"
      ]
     },
     "execution_count": 8,
     "metadata": {},
     "output_type": "execute_result"
    }
   ],
   "source": [
    "# Date and Year seem to have duplicated information, let's check it out:\n",
    "\n",
    "df[['Date', 'Year']].head()\n",
    "\n",
    "# Year contains duplicated data"
   ]
  },
  {
   "cell_type": "markdown",
   "metadata": {},
   "source": [
    "## Removing unwanted columns"
   ]
  },
  {
   "cell_type": "code",
   "execution_count": 9,
   "metadata": {
    "ExecuteTime": {
     "end_time": "2020-02-06T22:38:50.756826Z",
     "start_time": "2020-02-06T22:38:50.750606Z"
    }
   },
   "outputs": [],
   "source": [
    "# We decided, due to the number of NA values \n",
    "# and the content of the observations, that we'll eliminate the following columns:\n",
    "# 'Case Number', 'Case Number.1', 'Case Number.2' provides IDs not useful for analysis, and contains too many NA's\n",
    "# 'pdf' contains unuseful name archives\n",
    "# 'Year' contains duplicated data\n",
    "# 'Type' contains unclear values for our study\n",
    "# 'href formula', 'href' contains links leading to non-existing web pages\n",
    "\n",
    "\n",
    "drop = ['Case Number', 'Type', 'Year', 'Year', 'pdf', 'href formula', 'href', 'Case Number.1', \n",
    "        'Case Number.2', 'original order', 'Unnamed: 22', 'Unnamed: 23']\n",
    "\n",
    "df.drop(drop, axis=1, inplace=True)"
   ]
  },
  {
   "cell_type": "code",
   "execution_count": 10,
   "metadata": {
    "ExecuteTime": {
     "end_time": "2020-02-06T22:38:52.654082Z",
     "start_time": "2020-02-06T22:38:52.641868Z"
    }
   },
   "outputs": [
    {
     "data": {
      "text/plain": [
       "Index(['date', 'country', 'area', 'location', 'activity', 'name', 'sex', 'age',\n",
       "       'injury', 'fatal', 'time', 'species ', 'source'],\n",
       "      dtype='object')"
      ]
     },
     "execution_count": 10,
     "metadata": {},
     "output_type": "execute_result"
    }
   ],
   "source": [
    "# We'll also rename some columns for a more clear/practical analysis:\n",
    "\n",
    "df = df.rename({'Sex ': 'sex', 'Fatal (Y/N)': 'fatal', 'Investigator or Source': 'source' }, axis=1)\n",
    "\n",
    "# Lowering the columns so it's easier to manipulate\n",
    "col_names = [col.lower() for col in df.columns]\n",
    "df.columns = col_names\n",
    "\n",
    "df.columns\n"
   ]
  },
  {
   "cell_type": "markdown",
   "metadata": {},
   "source": [
    "# Manipulating the dataset"
   ]
  },
  {
   "cell_type": "code",
   "execution_count": 11,
   "metadata": {
    "ExecuteTime": {
     "end_time": "2020-02-06T22:38:54.549440Z",
     "start_time": "2020-02-06T22:38:54.544700Z"
    }
   },
   "outputs": [
    {
     "data": {
      "text/plain": [
       "date        object\n",
       "country     object\n",
       "area        object\n",
       "location    object\n",
       "activity    object\n",
       "name        object\n",
       "sex         object\n",
       "age         object\n",
       "injury      object\n",
       "fatal       object\n",
       "time        object\n",
       "species     object\n",
       "source      object\n",
       "dtype: object"
      ]
     },
     "execution_count": 11,
     "metadata": {},
     "output_type": "execute_result"
    }
   ],
   "source": [
    "# Checking the type of the observations to see if they're useful or in need of treatment.\n",
    "\n",
    "df.dtypes\n",
    "\n",
    "# Here we can see that the majority of data collected it's not categorized properly."
   ]
  },
  {
   "cell_type": "markdown",
   "metadata": {},
   "source": [
    "## Setting up a DateTime Index"
   ]
  },
  {
   "cell_type": "code",
   "execution_count": 12,
   "metadata": {
    "ExecuteTime": {
     "end_time": "2020-02-06T22:38:56.715638Z",
     "start_time": "2020-02-06T22:38:56.711254Z"
    },
    "code_folding": []
   },
   "outputs": [
    {
     "data": {
      "text/plain": [
       "0    18-Sep-16\n",
       "1    18-Sep-16\n",
       "2    18-Sep-16\n",
       "3    17-Sep-16\n",
       "4    16-Sep-16\n",
       "5    15-Sep-16\n",
       "6    11-Sep-16\n",
       "7    07-Sep-16\n",
       "8    06-Sep-16\n",
       "9    05-Sep-16\n",
       "Name: date, dtype: object"
      ]
     },
     "execution_count": 12,
     "metadata": {},
     "output_type": "execute_result"
    }
   ],
   "source": [
    "# We can set the index of the DataFrame in order to have a proper way to study it, using the 'date' column:\n",
    "\n",
    "df['date'].head(10)\n"
   ]
  },
  {
   "cell_type": "markdown",
   "metadata": {},
   "source": [
    "We'll try to set all the column values to datetime objects, and set the non-readable values to NaT. "
   ]
  },
  {
   "cell_type": "code",
   "execution_count": 13,
   "metadata": {
    "ExecuteTime": {
     "end_time": "2020-02-06T22:38:58.965614Z",
     "start_time": "2020-02-06T22:38:58.585191Z"
    }
   },
   "outputs": [
    {
     "data": {
      "text/plain": [
       "5135"
      ]
     },
     "execution_count": 13,
     "metadata": {},
     "output_type": "execute_result"
    }
   ],
   "source": [
    "df_time = df['date']\n",
    "\n",
    "df_time = pd.to_datetime(df_time, errors='coerce')\n",
    "\n",
    "df_time.count()"
   ]
  },
  {
   "cell_type": "markdown",
   "metadata": {},
   "source": [
    "We see we have 5135 values out of 5991, we consider it viable for our analysis.\n",
    "Setting this series as index for our dataframe."
   ]
  },
  {
   "cell_type": "code",
   "execution_count": 14,
   "metadata": {
    "ExecuteTime": {
     "end_time": "2020-02-06T22:39:01.093943Z",
     "start_time": "2020-02-06T22:39:01.086224Z"
    }
   },
   "outputs": [],
   "source": [
    "df = df.set_index(df_time)\n",
    "df.head(1)\n",
    "\n",
    "# We can also drop the 'date' column since it's in our index. \n",
    "# We'll also drop the rows in which we don't have this index\n",
    "\n",
    "df.drop('date', axis=1, inplace=True)\n"
   ]
  },
  {
   "cell_type": "code",
   "execution_count": 15,
   "metadata": {
    "ExecuteTime": {
     "end_time": "2020-02-06T22:39:03.306125Z",
     "start_time": "2020-02-06T22:39:03.302634Z"
    }
   },
   "outputs": [
    {
     "data": {
      "text/plain": [
       "pandas.core.indexes.datetimes.DatetimeIndex"
      ]
     },
     "execution_count": 15,
     "metadata": {},
     "output_type": "execute_result"
    }
   ],
   "source": [
    "type(df.index)"
   ]
  },
  {
   "cell_type": "markdown",
   "metadata": {},
   "source": [
    "Testing our index's capabilities. Let's count all cases from 1980 to 1981"
   ]
  },
  {
   "cell_type": "code",
   "execution_count": 16,
   "metadata": {
    "ExecuteTime": {
     "end_time": "2020-02-06T22:39:05.605616Z",
     "start_time": "2020-02-06T22:39:05.600012Z"
    }
   },
   "outputs": [
    {
     "name": "stdout",
     "output_type": "stream",
     "text": [
      "(31, 12)\n"
     ]
    }
   ],
   "source": [
    "print(df['1 Jan 1980':'1 Jan 1981'].shape)"
   ]
  },
  {
   "cell_type": "markdown",
   "metadata": {},
   "source": [
    "Also finding exact dates:"
   ]
  },
  {
   "cell_type": "code",
   "execution_count": 17,
   "metadata": {
    "ExecuteTime": {
     "end_time": "2020-02-06T22:39:07.820642Z",
     "start_time": "2020-02-06T22:39:07.807090Z"
    }
   },
   "outputs": [
    {
     "data": {
      "text/html": [
       "<div>\n",
       "<style scoped>\n",
       "    .dataframe tbody tr th:only-of-type {\n",
       "        vertical-align: middle;\n",
       "    }\n",
       "\n",
       "    .dataframe tbody tr th {\n",
       "        vertical-align: top;\n",
       "    }\n",
       "\n",
       "    .dataframe thead th {\n",
       "        text-align: right;\n",
       "    }\n",
       "</style>\n",
       "<table border=\"1\" class=\"dataframe\">\n",
       "  <thead>\n",
       "    <tr style=\"text-align: right;\">\n",
       "      <th></th>\n",
       "      <th>country</th>\n",
       "      <th>area</th>\n",
       "      <th>location</th>\n",
       "      <th>activity</th>\n",
       "      <th>name</th>\n",
       "      <th>sex</th>\n",
       "      <th>age</th>\n",
       "      <th>injury</th>\n",
       "      <th>fatal</th>\n",
       "      <th>time</th>\n",
       "      <th>species</th>\n",
       "      <th>source</th>\n",
       "    </tr>\n",
       "    <tr>\n",
       "      <th>date</th>\n",
       "      <th></th>\n",
       "      <th></th>\n",
       "      <th></th>\n",
       "      <th></th>\n",
       "      <th></th>\n",
       "      <th></th>\n",
       "      <th></th>\n",
       "      <th></th>\n",
       "      <th></th>\n",
       "      <th></th>\n",
       "      <th></th>\n",
       "      <th></th>\n",
       "    </tr>\n",
       "  </thead>\n",
       "  <tbody>\n",
       "    <tr>\n",
       "      <td>2006-01-01</td>\n",
       "      <td>SOUTH AFRICA</td>\n",
       "      <td>Western Cape Province</td>\n",
       "      <td>Soetwater</td>\n",
       "      <td>Diving for crayfish</td>\n",
       "      <td>John Williams</td>\n",
       "      <td>M</td>\n",
       "      <td>49</td>\n",
       "      <td>Lacerations to little finger</td>\n",
       "      <td>N</td>\n",
       "      <td>NaN</td>\n",
       "      <td>Said to involve a 1.5 m shark</td>\n",
       "      <td>J.P. Botha, GSAF</td>\n",
       "    </tr>\n",
       "  </tbody>\n",
       "</table>\n",
       "</div>"
      ],
      "text/plain": [
       "                 country                   area   location  \\\n",
       "date                                                         \n",
       "2006-01-01  SOUTH AFRICA  Western Cape Province  Soetwater   \n",
       "\n",
       "                       activity           name sex age  \\\n",
       "date                                                     \n",
       "2006-01-01  Diving for crayfish  John Williams   M  49   \n",
       "\n",
       "                                  injury fatal time  \\\n",
       "date                                                  \n",
       "2006-01-01  Lacerations to little finger     N  NaN   \n",
       "\n",
       "                                 species             source  \n",
       "date                                                         \n",
       "2006-01-01  Said to involve a 1.5 m shark  J.P. Botha, GSAF  "
      ]
     },
     "execution_count": 17,
     "metadata": {},
     "output_type": "execute_result"
    }
   ],
   "source": [
    "df['1 Jan 2006']"
   ]
  },
  {
   "cell_type": "markdown",
   "metadata": {},
   "source": [
    "Formatting our index so it's clearer"
   ]
  },
  {
   "cell_type": "code",
   "execution_count": 18,
   "metadata": {
    "ExecuteTime": {
     "end_time": "2020-02-06T22:39:10.078379Z",
     "start_time": "2020-02-06T22:39:10.043889Z"
    }
   },
   "outputs": [],
   "source": [
    "df.index = df.index.rename('')\n",
    "\n",
    "df.index = df.index.strftime('%B %d, %Y')"
   ]
  },
  {
   "cell_type": "markdown",
   "metadata": {},
   "source": [
    "## Location manipulation"
   ]
  },
  {
   "cell_type": "markdown",
   "metadata": {},
   "source": [
    "On the format we've given, we can see 3 rows which can be converted to just one by joining them and manipulating its content"
   ]
  },
  {
   "cell_type": "code",
   "execution_count": 19,
   "metadata": {
    "ExecuteTime": {
     "end_time": "2020-02-06T22:39:12.234715Z",
     "start_time": "2020-02-06T22:39:12.224716Z"
    }
   },
   "outputs": [
    {
     "data": {
      "text/html": [
       "<div>\n",
       "<style scoped>\n",
       "    .dataframe tbody tr th:only-of-type {\n",
       "        vertical-align: middle;\n",
       "    }\n",
       "\n",
       "    .dataframe tbody tr th {\n",
       "        vertical-align: top;\n",
       "    }\n",
       "\n",
       "    .dataframe thead th {\n",
       "        text-align: right;\n",
       "    }\n",
       "</style>\n",
       "<table border=\"1\" class=\"dataframe\">\n",
       "  <thead>\n",
       "    <tr style=\"text-align: right;\">\n",
       "      <th></th>\n",
       "      <th>country</th>\n",
       "      <th>area</th>\n",
       "      <th>location</th>\n",
       "    </tr>\n",
       "  </thead>\n",
       "  <tbody>\n",
       "    <tr>\n",
       "      <td>September 18, 2016</td>\n",
       "      <td>USA</td>\n",
       "      <td>Florida</td>\n",
       "      <td>New Smyrna Beach, Volusia County</td>\n",
       "    </tr>\n",
       "    <tr>\n",
       "      <td>September 18, 2016</td>\n",
       "      <td>USA</td>\n",
       "      <td>Florida</td>\n",
       "      <td>New Smyrna Beach, Volusia County</td>\n",
       "    </tr>\n",
       "    <tr>\n",
       "      <td>September 18, 2016</td>\n",
       "      <td>USA</td>\n",
       "      <td>Florida</td>\n",
       "      <td>New Smyrna Beach, Volusia County</td>\n",
       "    </tr>\n",
       "  </tbody>\n",
       "</table>\n",
       "</div>"
      ],
      "text/plain": [
       "                   country     area                          location\n",
       "September 18, 2016     USA  Florida  New Smyrna Beach, Volusia County\n",
       "September 18, 2016     USA  Florida  New Smyrna Beach, Volusia County\n",
       "September 18, 2016     USA  Florida  New Smyrna Beach, Volusia County"
      ]
     },
     "execution_count": 19,
     "metadata": {},
     "output_type": "execute_result"
    }
   ],
   "source": [
    "location_cols = ['country', 'area', 'location']\n",
    "\n",
    "df[location_cols].head(3)\n"
   ]
  },
  {
   "cell_type": "markdown",
   "metadata": {},
   "source": [
    "We'll make sure that all our values are strings:"
   ]
  },
  {
   "cell_type": "code",
   "execution_count": 20,
   "metadata": {
    "ExecuteTime": {
     "end_time": "2020-02-06T22:39:14.410653Z",
     "start_time": "2020-02-06T22:39:14.402905Z"
    }
   },
   "outputs": [],
   "source": [
    "df[location_cols] = df[location_cols].astype(str)"
   ]
  },
  {
   "cell_type": "code",
   "execution_count": 21,
   "metadata": {
    "ExecuteTime": {
     "end_time": "2020-02-06T22:39:16.369687Z",
     "start_time": "2020-02-06T22:39:16.328882Z"
    },
    "scrolled": true
   },
   "outputs": [
    {
     "name": "stdout",
     "output_type": "stream",
     "text": [
      "Our list has 3 columns and 5992 rows\n"
     ]
    },
    {
     "data": {
      "text/html": [
       "<div>\n",
       "<style scoped>\n",
       "    .dataframe tbody tr th:only-of-type {\n",
       "        vertical-align: middle;\n",
       "    }\n",
       "\n",
       "    .dataframe tbody tr th {\n",
       "        vertical-align: top;\n",
       "    }\n",
       "\n",
       "    .dataframe thead th {\n",
       "        text-align: right;\n",
       "    }\n",
       "</style>\n",
       "<table border=\"1\" class=\"dataframe\">\n",
       "  <thead>\n",
       "    <tr style=\"text-align: right;\">\n",
       "      <th></th>\n",
       "      <th>country</th>\n",
       "      <th>area</th>\n",
       "      <th>location</th>\n",
       "      <th>activity</th>\n",
       "      <th>name</th>\n",
       "      <th>sex</th>\n",
       "      <th>age</th>\n",
       "      <th>injury</th>\n",
       "      <th>fatal</th>\n",
       "      <th>time</th>\n",
       "      <th>species</th>\n",
       "      <th>source</th>\n",
       "      <th>locations</th>\n",
       "    </tr>\n",
       "  </thead>\n",
       "  <tbody>\n",
       "    <tr>\n",
       "      <td>September 18, 2016</td>\n",
       "      <td>USA</td>\n",
       "      <td>Florida</td>\n",
       "      <td>New Smyrna Beach, Volusia County</td>\n",
       "      <td>Surfing</td>\n",
       "      <td>male</td>\n",
       "      <td>M</td>\n",
       "      <td>16</td>\n",
       "      <td>Minor injury to thigh</td>\n",
       "      <td>N</td>\n",
       "      <td>13h00</td>\n",
       "      <td>NaN</td>\n",
       "      <td>Orlando Sentinel, 9/19/2016</td>\n",
       "      <td>New Smyrna Beach, Volusia County, Florida, Usa</td>\n",
       "    </tr>\n",
       "    <tr>\n",
       "      <td>September 18, 2016</td>\n",
       "      <td>USA</td>\n",
       "      <td>Florida</td>\n",
       "      <td>New Smyrna Beach, Volusia County</td>\n",
       "      <td>Surfing</td>\n",
       "      <td>Chucky Luciano</td>\n",
       "      <td>M</td>\n",
       "      <td>36</td>\n",
       "      <td>Lacerations to hands</td>\n",
       "      <td>N</td>\n",
       "      <td>11h00</td>\n",
       "      <td>NaN</td>\n",
       "      <td>Orlando Sentinel, 9/19/2016</td>\n",
       "      <td>New Smyrna Beach, Volusia County, Florida, Usa</td>\n",
       "    </tr>\n",
       "    <tr>\n",
       "      <td>September 18, 2016</td>\n",
       "      <td>USA</td>\n",
       "      <td>Florida</td>\n",
       "      <td>New Smyrna Beach, Volusia County</td>\n",
       "      <td>Surfing</td>\n",
       "      <td>male</td>\n",
       "      <td>M</td>\n",
       "      <td>43</td>\n",
       "      <td>Lacerations to lower leg</td>\n",
       "      <td>N</td>\n",
       "      <td>10h43</td>\n",
       "      <td>NaN</td>\n",
       "      <td>Orlando Sentinel, 9/19/2016</td>\n",
       "      <td>New Smyrna Beach, Volusia County, Florida, Usa</td>\n",
       "    </tr>\n",
       "  </tbody>\n",
       "</table>\n",
       "</div>"
      ],
      "text/plain": [
       "                   country     area                          location  \\\n",
       "September 18, 2016     USA  Florida  New Smyrna Beach, Volusia County   \n",
       "September 18, 2016     USA  Florida  New Smyrna Beach, Volusia County   \n",
       "September 18, 2016     USA  Florida  New Smyrna Beach, Volusia County   \n",
       "\n",
       "                   activity            name sex age                    injury  \\\n",
       "September 18, 2016  Surfing            male   M  16     Minor injury to thigh   \n",
       "September 18, 2016  Surfing  Chucky Luciano   M  36      Lacerations to hands   \n",
       "September 18, 2016  Surfing            male   M  43  Lacerations to lower leg   \n",
       "\n",
       "                   fatal   time species                        source  \\\n",
       "September 18, 2016     N  13h00      NaN  Orlando Sentinel, 9/19/2016   \n",
       "September 18, 2016     N  11h00      NaN  Orlando Sentinel, 9/19/2016   \n",
       "September 18, 2016     N  10h43      NaN  Orlando Sentinel, 9/19/2016   \n",
       "\n",
       "                                                         locations  \n",
       "September 18, 2016  New Smyrna Beach, Volusia County, Florida, Usa  \n",
       "September 18, 2016  New Smyrna Beach, Volusia County, Florida, Usa  \n",
       "September 18, 2016  New Smyrna Beach, Volusia County, Florida, Usa  "
      ]
     },
     "execution_count": 21,
     "metadata": {},
     "output_type": "execute_result"
    }
   ],
   "source": [
    "# These values needs to be capitalized and joined. We'll make a function for it:\n",
    "\n",
    "def capital(series):\n",
    "    return str(series).title()\n",
    "\n",
    "lst = [[capital(value) for value in df[string]] for string in location_cols]\n",
    "lst_array = np.array(lst)\n",
    "print(f'Our list has {lst_array.shape[0]} columns and {lst_array.shape[1]} rows')\n",
    "\n",
    "country, area, loc = lst[0], lst[1], lst[2]\n",
    "\n",
    "locations = [x + ', ' + y  + ', ' + z for x, y, z in zip(loc, area, country)]\n",
    "\n",
    "df['locations'] = locations\n",
    "\n",
    "df['locations']\n",
    "\n",
    "df.head(3)\n",
    "\n",
    "# This 'locations' column will be used to create Coordinates for geolocation."
   ]
  },
  {
   "cell_type": "markdown",
   "metadata": {},
   "source": [
    "Now we can remove three rows of our dataframe: 'area' and 'location'. We'll keep Country for visualization pruposes"
   ]
  },
  {
   "cell_type": "code",
   "execution_count": 22,
   "metadata": {
    "ExecuteTime": {
     "end_time": "2020-02-06T22:39:20.663668Z",
     "start_time": "2020-02-06T22:39:20.639475Z"
    }
   },
   "outputs": [
    {
     "data": {
      "text/html": [
       "<div>\n",
       "<style scoped>\n",
       "    .dataframe tbody tr th:only-of-type {\n",
       "        vertical-align: middle;\n",
       "    }\n",
       "\n",
       "    .dataframe tbody tr th {\n",
       "        vertical-align: top;\n",
       "    }\n",
       "\n",
       "    .dataframe thead th {\n",
       "        text-align: right;\n",
       "    }\n",
       "</style>\n",
       "<table border=\"1\" class=\"dataframe\">\n",
       "  <thead>\n",
       "    <tr style=\"text-align: right;\">\n",
       "      <th></th>\n",
       "      <th>country</th>\n",
       "      <th>activity</th>\n",
       "      <th>name</th>\n",
       "      <th>sex</th>\n",
       "      <th>age</th>\n",
       "      <th>injury</th>\n",
       "      <th>fatal</th>\n",
       "      <th>time</th>\n",
       "      <th>species</th>\n",
       "      <th>source</th>\n",
       "      <th>locations</th>\n",
       "    </tr>\n",
       "  </thead>\n",
       "  <tbody>\n",
       "    <tr>\n",
       "      <td>September 18, 2016</td>\n",
       "      <td>USA</td>\n",
       "      <td>Surfing</td>\n",
       "      <td>male</td>\n",
       "      <td>M</td>\n",
       "      <td>16</td>\n",
       "      <td>Minor injury to thigh</td>\n",
       "      <td>N</td>\n",
       "      <td>13h00</td>\n",
       "      <td>NaN</td>\n",
       "      <td>Orlando Sentinel, 9/19/2016</td>\n",
       "      <td>New Smyrna Beach, Volusia County, Florida, Usa</td>\n",
       "    </tr>\n",
       "    <tr>\n",
       "      <td>September 18, 2016</td>\n",
       "      <td>USA</td>\n",
       "      <td>Surfing</td>\n",
       "      <td>Chucky Luciano</td>\n",
       "      <td>M</td>\n",
       "      <td>36</td>\n",
       "      <td>Lacerations to hands</td>\n",
       "      <td>N</td>\n",
       "      <td>11h00</td>\n",
       "      <td>NaN</td>\n",
       "      <td>Orlando Sentinel, 9/19/2016</td>\n",
       "      <td>New Smyrna Beach, Volusia County, Florida, Usa</td>\n",
       "    </tr>\n",
       "    <tr>\n",
       "      <td>September 18, 2016</td>\n",
       "      <td>USA</td>\n",
       "      <td>Surfing</td>\n",
       "      <td>male</td>\n",
       "      <td>M</td>\n",
       "      <td>43</td>\n",
       "      <td>Lacerations to lower leg</td>\n",
       "      <td>N</td>\n",
       "      <td>10h43</td>\n",
       "      <td>NaN</td>\n",
       "      <td>Orlando Sentinel, 9/19/2016</td>\n",
       "      <td>New Smyrna Beach, Volusia County, Florida, Usa</td>\n",
       "    </tr>\n",
       "  </tbody>\n",
       "</table>\n",
       "</div>"
      ],
      "text/plain": [
       "                   country activity            name sex age  \\\n",
       "September 18, 2016     USA  Surfing            male   M  16   \n",
       "September 18, 2016     USA  Surfing  Chucky Luciano   M  36   \n",
       "September 18, 2016     USA  Surfing            male   M  43   \n",
       "\n",
       "                                      injury fatal   time species   \\\n",
       "September 18, 2016     Minor injury to thigh     N  13h00      NaN   \n",
       "September 18, 2016      Lacerations to hands     N  11h00      NaN   \n",
       "September 18, 2016  Lacerations to lower leg     N  10h43      NaN   \n",
       "\n",
       "                                         source  \\\n",
       "September 18, 2016  Orlando Sentinel, 9/19/2016   \n",
       "September 18, 2016  Orlando Sentinel, 9/19/2016   \n",
       "September 18, 2016  Orlando Sentinel, 9/19/2016   \n",
       "\n",
       "                                                         locations  \n",
       "September 18, 2016  New Smyrna Beach, Volusia County, Florida, Usa  \n",
       "September 18, 2016  New Smyrna Beach, Volusia County, Florida, Usa  \n",
       "September 18, 2016  New Smyrna Beach, Volusia County, Florida, Usa  "
      ]
     },
     "execution_count": 22,
     "metadata": {},
     "output_type": "execute_result"
    }
   ],
   "source": [
    "df.drop(df[['area', 'location']], axis=1, inplace=True)\n",
    "df.rename({'locations': 'location'}, axis=1)\n",
    "df.head(3)"
   ]
  },
  {
   "cell_type": "markdown",
   "metadata": {},
   "source": [
    "## Age column"
   ]
  },
  {
   "cell_type": "code",
   "execution_count": 23,
   "metadata": {
    "ExecuteTime": {
     "end_time": "2020-02-06T22:39:24.014655Z",
     "start_time": "2020-02-06T22:39:24.005598Z"
    }
   },
   "outputs": [
    {
     "data": {
      "text/plain": [
       "True     3280\n",
       "NaN      2681\n",
       "False      31\n",
       "Name: age, dtype: int64"
      ]
     },
     "execution_count": 23,
     "metadata": {},
     "output_type": "execute_result"
    }
   ],
   "source": [
    "# Let's see how much of the values in 'age' have valid data points:\n",
    "\n",
    "regex = '\\d{1,2}'\n",
    "\n",
    "valid_ages = df['age'].str.contains(regex)\n",
    "\n",
    "valid_ages.value_counts(dropna=False)\n",
    "\n",
    "# We see that we have a total 3280 '1 or 2 digit' type observations. "
   ]
  },
  {
   "cell_type": "code",
   "execution_count": 24,
   "metadata": {
    "ExecuteTime": {
     "end_time": "2020-02-06T22:39:27.571895Z",
     "start_time": "2020-02-06T22:39:27.565964Z"
    }
   },
   "outputs": [
    {
     "name": "stdout",
     "output_type": "stream",
     "text": [
      "17              148\n",
      "18              145\n",
      "19              138\n",
      "20              136\n",
      "15              135\n",
      "               ... \n",
      "36 & 26           1\n",
      ">50               1\n",
      "84                1\n",
      "\"middle-age\"      1\n",
      "25 or 28          1\n",
      "Name: age, Length: 151, dtype: int64\n"
     ]
    }
   ],
   "source": [
    "print(df['age'].value_counts())\n"
   ]
  },
  {
   "cell_type": "code",
   "execution_count": 25,
   "metadata": {
    "ExecuteTime": {
     "end_time": "2020-02-06T22:39:31.159894Z",
     "start_time": "2020-02-06T22:39:31.133230Z"
    },
    "code_folding": []
   },
   "outputs": [
    {
     "data": {
      "text/html": [
       "<div>\n",
       "<style scoped>\n",
       "    .dataframe tbody tr th:only-of-type {\n",
       "        vertical-align: middle;\n",
       "    }\n",
       "\n",
       "    .dataframe tbody tr th {\n",
       "        vertical-align: top;\n",
       "    }\n",
       "\n",
       "    .dataframe thead th {\n",
       "        text-align: right;\n",
       "    }\n",
       "</style>\n",
       "<table border=\"1\" class=\"dataframe\">\n",
       "  <thead>\n",
       "    <tr style=\"text-align: right;\">\n",
       "      <th></th>\n",
       "      <th>country</th>\n",
       "      <th>activity</th>\n",
       "      <th>name</th>\n",
       "      <th>sex</th>\n",
       "      <th>age</th>\n",
       "      <th>injury</th>\n",
       "      <th>fatal</th>\n",
       "      <th>time</th>\n",
       "      <th>species</th>\n",
       "      <th>source</th>\n",
       "      <th>locations</th>\n",
       "    </tr>\n",
       "  </thead>\n",
       "  <tbody>\n",
       "    <tr>\n",
       "      <td>September 18, 2016</td>\n",
       "      <td>USA</td>\n",
       "      <td>Surfing</td>\n",
       "      <td>male</td>\n",
       "      <td>M</td>\n",
       "      <td>16.0</td>\n",
       "      <td>Minor injury to thigh</td>\n",
       "      <td>N</td>\n",
       "      <td>13h00</td>\n",
       "      <td>NaN</td>\n",
       "      <td>Orlando Sentinel, 9/19/2016</td>\n",
       "      <td>New Smyrna Beach, Volusia County, Florida, Usa</td>\n",
       "    </tr>\n",
       "    <tr>\n",
       "      <td>September 18, 2016</td>\n",
       "      <td>USA</td>\n",
       "      <td>Surfing</td>\n",
       "      <td>Chucky Luciano</td>\n",
       "      <td>M</td>\n",
       "      <td>36.0</td>\n",
       "      <td>Lacerations to hands</td>\n",
       "      <td>N</td>\n",
       "      <td>11h00</td>\n",
       "      <td>NaN</td>\n",
       "      <td>Orlando Sentinel, 9/19/2016</td>\n",
       "      <td>New Smyrna Beach, Volusia County, Florida, Usa</td>\n",
       "    </tr>\n",
       "    <tr>\n",
       "      <td>September 18, 2016</td>\n",
       "      <td>USA</td>\n",
       "      <td>Surfing</td>\n",
       "      <td>male</td>\n",
       "      <td>M</td>\n",
       "      <td>43.0</td>\n",
       "      <td>Lacerations to lower leg</td>\n",
       "      <td>N</td>\n",
       "      <td>10h43</td>\n",
       "      <td>NaN</td>\n",
       "      <td>Orlando Sentinel, 9/19/2016</td>\n",
       "      <td>New Smyrna Beach, Volusia County, Florida, Usa</td>\n",
       "    </tr>\n",
       "  </tbody>\n",
       "</table>\n",
       "</div>"
      ],
      "text/plain": [
       "                   country activity            name sex   age  \\\n",
       "September 18, 2016     USA  Surfing            male   M  16.0   \n",
       "September 18, 2016     USA  Surfing  Chucky Luciano   M  36.0   \n",
       "September 18, 2016     USA  Surfing            male   M  43.0   \n",
       "\n",
       "                                      injury fatal   time species   \\\n",
       "September 18, 2016     Minor injury to thigh     N  13h00      NaN   \n",
       "September 18, 2016      Lacerations to hands     N  11h00      NaN   \n",
       "September 18, 2016  Lacerations to lower leg     N  10h43      NaN   \n",
       "\n",
       "                                         source  \\\n",
       "September 18, 2016  Orlando Sentinel, 9/19/2016   \n",
       "September 18, 2016  Orlando Sentinel, 9/19/2016   \n",
       "September 18, 2016  Orlando Sentinel, 9/19/2016   \n",
       "\n",
       "                                                         locations  \n",
       "September 18, 2016  New Smyrna Beach, Volusia County, Florida, Usa  \n",
       "September 18, 2016  New Smyrna Beach, Volusia County, Florida, Usa  \n",
       "September 18, 2016  New Smyrna Beach, Volusia County, Florida, Usa  "
      ]
     },
     "execution_count": 25,
     "metadata": {},
     "output_type": "execute_result"
    }
   ],
   "source": [
    "# We would like to convert 'age' to numeric, but first we'll have to clean it up:\n",
    "\n",
    "#print(df['age'].value_counts())\n",
    "\n",
    "def clean_2d_age(string):\n",
    "    '''\n",
    "    Takes a string containing numbers and converts it to a one or two digits integer\n",
    "    '''\n",
    "    try:\n",
    "        pattern='\\d{1,2}' # using this pattern so we just find one or two digits\n",
    "        num = re.findall(pattern, string)[0]\n",
    "        return int(num)\n",
    "    except:\n",
    "        return None\n",
    "\n",
    "\n",
    "age = df['age'].apply(clean_2d_age).astype(int, errors='ignore')\n",
    "\n",
    "df['age'] = age\n",
    "\n",
    "df.head(3)\n",
    "\n"
   ]
  },
  {
   "cell_type": "markdown",
   "metadata": {},
   "source": [
    "## 'Fatal' column: Bool variables"
   ]
  },
  {
   "cell_type": "code",
   "execution_count": 26,
   "metadata": {
    "ExecuteTime": {
     "end_time": "2020-02-06T22:39:35.120834Z",
     "start_time": "2020-02-06T22:39:35.114442Z"
    },
    "code_folding": []
   },
   "outputs": [
    {
     "name": "stdout",
     "output_type": "stream",
     "text": [
      "N          4315\n",
      "Y          1552\n",
      "UNKNOWN      94\n",
      "nan          19\n",
      " N            8\n",
      "#VALUE!       1\n",
      "N             1\n",
      "n             1\n",
      "F             1\n",
      "Name: fatal, dtype: int64\n"
     ]
    }
   ],
   "source": [
    "# We see 'fatal' column should behave as a boolean, so we transform it\n",
    "\n",
    "df['fatal'] = df['fatal'].astype(str)\n",
    "print(df['fatal'].value_counts())"
   ]
  },
  {
   "cell_type": "code",
   "execution_count": 27,
   "metadata": {
    "ExecuteTime": {
     "end_time": "2020-02-06T22:39:39.278146Z",
     "start_time": "2020-02-06T22:39:39.247670Z"
    }
   },
   "outputs": [
    {
     "data": {
      "text/plain": [
       "False    4440\n",
       "True     1552\n",
       "Name: fatal, dtype: int64"
      ]
     },
     "execution_count": 27,
     "metadata": {},
     "output_type": "execute_result"
    }
   ],
   "source": [
    "# Defining a function for assigning Yes/No to True/False with regex:\n",
    "\n",
    "def yn_to_tf(string):\n",
    "    '''\n",
    "    Analyzes a string using regex. If the string is Yes, return True.\n",
    "    If it is No, return False. For invalid data, return Nan\n",
    "    '''\n",
    "    if re.search('[Yy]{1}', string):\n",
    "        return True\n",
    "    elif re.search('nan', string):\n",
    "        return None\n",
    "    elif re.search('[Nn]{1}', string):\n",
    "        return False\n",
    "    else:\n",
    "        return None\n",
    "\n",
    "fatal = df['fatal'].apply(yn_to_tf)\n",
    "df['fatal'] = fatal.astype(bool)\n",
    "\n",
    "df['fatal'].value_counts()"
   ]
  },
  {
   "cell_type": "markdown",
   "metadata": {},
   "source": [
    "## Sex column: Categorical variables"
   ]
  },
  {
   "cell_type": "code",
   "execution_count": 28,
   "metadata": {
    "ExecuteTime": {
     "end_time": "2020-02-06T22:39:43.268661Z",
     "start_time": "2020-02-06T22:39:43.263506Z"
    }
   },
   "outputs": [],
   "source": [
    "df['sex'].value_counts()\n",
    "df['sex'] = df.sex.astype(str)"
   ]
  },
  {
   "cell_type": "code",
   "execution_count": 29,
   "metadata": {
    "ExecuteTime": {
     "end_time": "2020-02-06T22:39:47.312268Z",
     "start_time": "2020-02-06T22:39:47.297238Z"
    }
   },
   "outputs": [
    {
     "name": "stdout",
     "output_type": "stream",
     "text": [
      "male      4837\n",
      "female     585\n",
      "Name: sex, dtype: int64\n"
     ]
    }
   ],
   "source": [
    "# Similar treatment for 'sex' column:\n",
    "\n",
    "def mf_to_malefemale(string):\n",
    "    if re.search('[Mm]{1}', string):\n",
    "        sex = 'male'\n",
    "        return sex\n",
    "    elif re.search('[Ff]{1}', string):\n",
    "        sex = 'female'\n",
    "        return sex\n",
    "    else:\n",
    "        return None\n",
    "\n",
    "sex = df['sex'].apply(mf_to_malefemale)\n",
    "\n",
    "print(sex.value_counts())\n",
    "\n",
    "df['sex'] = sex"
   ]
  },
  {
   "cell_type": "code",
   "execution_count": 30,
   "metadata": {
    "ExecuteTime": {
     "end_time": "2020-02-06T22:39:51.518050Z",
     "start_time": "2020-02-06T22:39:51.505987Z"
    }
   },
   "outputs": [
    {
     "data": {
      "text/html": [
       "<div>\n",
       "<style scoped>\n",
       "    .dataframe tbody tr th:only-of-type {\n",
       "        vertical-align: middle;\n",
       "    }\n",
       "\n",
       "    .dataframe tbody tr th {\n",
       "        vertical-align: top;\n",
       "    }\n",
       "\n",
       "    .dataframe thead th {\n",
       "        text-align: right;\n",
       "    }\n",
       "</style>\n",
       "<table border=\"1\" class=\"dataframe\">\n",
       "  <thead>\n",
       "    <tr style=\"text-align: right;\">\n",
       "      <th></th>\n",
       "      <th>country</th>\n",
       "      <th>activity</th>\n",
       "      <th>name</th>\n",
       "      <th>sex</th>\n",
       "      <th>age</th>\n",
       "      <th>injury</th>\n",
       "      <th>fatal</th>\n",
       "      <th>time</th>\n",
       "      <th>species</th>\n",
       "      <th>source</th>\n",
       "      <th>locations</th>\n",
       "    </tr>\n",
       "  </thead>\n",
       "  <tbody>\n",
       "    <tr>\n",
       "      <td>September 18, 2016</td>\n",
       "      <td>USA</td>\n",
       "      <td>Surfing</td>\n",
       "      <td>male</td>\n",
       "      <td>male</td>\n",
       "      <td>16.0</td>\n",
       "      <td>Minor injury to thigh</td>\n",
       "      <td>False</td>\n",
       "      <td>13h00</td>\n",
       "      <td>NaN</td>\n",
       "      <td>Orlando Sentinel, 9/19/2016</td>\n",
       "      <td>New Smyrna Beach, Volusia County, Florida, Usa</td>\n",
       "    </tr>\n",
       "    <tr>\n",
       "      <td>September 18, 2016</td>\n",
       "      <td>USA</td>\n",
       "      <td>Surfing</td>\n",
       "      <td>Chucky Luciano</td>\n",
       "      <td>male</td>\n",
       "      <td>36.0</td>\n",
       "      <td>Lacerations to hands</td>\n",
       "      <td>False</td>\n",
       "      <td>11h00</td>\n",
       "      <td>NaN</td>\n",
       "      <td>Orlando Sentinel, 9/19/2016</td>\n",
       "      <td>New Smyrna Beach, Volusia County, Florida, Usa</td>\n",
       "    </tr>\n",
       "    <tr>\n",
       "      <td>September 18, 2016</td>\n",
       "      <td>USA</td>\n",
       "      <td>Surfing</td>\n",
       "      <td>male</td>\n",
       "      <td>male</td>\n",
       "      <td>43.0</td>\n",
       "      <td>Lacerations to lower leg</td>\n",
       "      <td>False</td>\n",
       "      <td>10h43</td>\n",
       "      <td>NaN</td>\n",
       "      <td>Orlando Sentinel, 9/19/2016</td>\n",
       "      <td>New Smyrna Beach, Volusia County, Florida, Usa</td>\n",
       "    </tr>\n",
       "  </tbody>\n",
       "</table>\n",
       "</div>"
      ],
      "text/plain": [
       "                   country activity            name   sex   age  \\\n",
       "September 18, 2016     USA  Surfing            male  male  16.0   \n",
       "September 18, 2016     USA  Surfing  Chucky Luciano  male  36.0   \n",
       "September 18, 2016     USA  Surfing            male  male  43.0   \n",
       "\n",
       "                                      injury  fatal   time species   \\\n",
       "September 18, 2016     Minor injury to thigh  False  13h00      NaN   \n",
       "September 18, 2016      Lacerations to hands  False  11h00      NaN   \n",
       "September 18, 2016  Lacerations to lower leg  False  10h43      NaN   \n",
       "\n",
       "                                         source  \\\n",
       "September 18, 2016  Orlando Sentinel, 9/19/2016   \n",
       "September 18, 2016  Orlando Sentinel, 9/19/2016   \n",
       "September 18, 2016  Orlando Sentinel, 9/19/2016   \n",
       "\n",
       "                                                         locations  \n",
       "September 18, 2016  New Smyrna Beach, Volusia County, Florida, Usa  \n",
       "September 18, 2016  New Smyrna Beach, Volusia County, Florida, Usa  \n",
       "September 18, 2016  New Smyrna Beach, Volusia County, Florida, Usa  "
      ]
     },
     "execution_count": 30,
     "metadata": {},
     "output_type": "execute_result"
    }
   ],
   "source": [
    "df.head(3)"
   ]
  },
  {
   "cell_type": "markdown",
   "metadata": {},
   "source": [
    "## Name column: Setting to NaN unwanted values"
   ]
  },
  {
   "cell_type": "code",
   "execution_count": 31,
   "metadata": {
    "ExecuteTime": {
     "end_time": "2020-02-06T22:39:55.884904Z",
     "start_time": "2020-02-06T22:39:55.876116Z"
    }
   },
   "outputs": [
    {
     "name": "stdout",
     "output_type": "stream",
     "text": [
      "object\n"
     ]
    }
   ],
   "source": [
    "# This column is far too complex to extract names, so we'll just mitigate some common invalid points:\n",
    "\n",
    "names = df['name'].astype(str)\n",
    "\n",
    "names.value_counts()\n",
    "\n",
    "print(names.astype(str).dtypes)"
   ]
  },
  {
   "cell_type": "code",
   "execution_count": 33,
   "metadata": {
    "ExecuteTime": {
     "end_time": "2020-02-06T22:40:16.284406Z",
     "start_time": "2020-02-06T22:40:16.276020Z"
    }
   },
   "outputs": [
    {
     "data": {
      "text/plain": [
       "male              495\n",
       "nan               200\n",
       "female             85\n",
       "boy                23\n",
       "boat               14\n",
       "                 ... \n",
       "Copley              1\n",
       "William Munich      1\n",
       "Rob Konrad          1\n",
       "Zama Ndamase        1\n",
       "Sylvia Lucas        1\n",
       "Name: name, Length: 5010, dtype: int64"
      ]
     },
     "execution_count": 33,
     "metadata": {},
     "output_type": "execute_result"
    }
   ],
   "source": [
    "# Extracting the most common values errors from value_counts:\n",
    "names.value_counts()"
   ]
  },
  {
   "cell_type": "code",
   "execution_count": 38,
   "metadata": {
    "ExecuteTime": {
     "end_time": "2020-02-06T22:37:20.892465Z",
     "start_time": "2020-02-06T22:37:20.876434Z"
    }
   },
   "outputs": [
    {
     "data": {
      "text/plain": [
       "['male',\n",
       " 'nan',\n",
       " 'female',\n",
       " 'boy',\n",
       " 'boat',\n",
       " '2 males',\n",
       " 'sailor',\n",
       " 'Anonymous',\n",
       " 'child',\n",
       " 'girl',\n",
       " 'a sailor',\n",
       " 'Unidentified',\n",
       " 'males',\n",
       " 'fisherman',\n",
       " 'a pearl diver',\n",
       " 'a native',\n",
       " 'Unknown',\n",
       " 'black male',\n",
       " 'a soldier',\n",
       " 'Arab boy',\n",
       " '2 fishermen',\n",
       " 'woman',\n",
       " 'Andre Hartman',\n",
       " 'Zulu male',\n",
       " 'M.C.',\n",
       " 'Japanese diver',\n",
       " '2 women',\n",
       " ' male',\n",
       " 'unknown',\n",
       " 'dinghy',\n",
       " 'native boy',\n",
       " 'Russian male',\n",
       " 'aboriginal male',\n",
       " '3 males',\n",
       " 'A chiefess',\n",
       " 'a local dignitary',\n",
       " 'John Hayes',\n",
       " 'Charles Cook',\n",
       " 'Mr. Meyer',\n",
       " 'William Black',\n",
       " 'crew',\n",
       " 'Gordon Harmer',\n",
       " 'Hideo Ishida',\n",
       " 'Morris M. Vorenberg',\n",
       " 'Iona Asai',\n",
       " ' 2 males',\n",
       " 'fishermen',\n",
       " 'a native fisherman',\n",
       " 'a pilot',\n",
       " 'Coast Guard personnel',\n",
       " 'Parang',\n",
       " 'Andy Austin',\n",
       " \"12' dinghy\",\n",
       " '\"a youth\"',\n",
       " '2 men',\n",
       " 'Ali',\n",
       " 'teen',\n",
       " 'Greg Pickering',\n",
       " 'Carey Ford',\n",
       " 'Gerjo Van Niekerk',\n",
       " 'Ken Howell',\n",
       " 'Theirry Mercredi',\n",
       " 'Rory O�Connor',\n",
       " 'male, a Japanese fisherman',\n",
       " 'John Ford',\n",
       " 'Fijian girl',\n",
       " 'Seth Mead',\n",
       " 'Davies',\n",
       " 'Len Jones',\n",
       " 'Anton Bosman',\n",
       " 'John Williams',\n",
       " 'a school teacher',\n",
       " 'Hans Hass',\n",
       " 'Indian female',\n",
       " 'Owen',\n",
       " 'Thomas McDonald',\n",
       " 'boat, occupant: Danie Schoeman',\n",
       " 'Robert Martin',\n",
       " 'soldier ',\n",
       " 'Indian male',\n",
       " 'Japanese fisherman',\n",
       " 'Gary Johnson',\n",
       " 'John Bolling',\n",
       " 'Rodney Orr',\n",
       " 'American male',\n",
       " 'native',\n",
       " 'Kenny Burns',\n",
       " 'skiboat, occupant: Danie Schoeman',\n",
       " 'Eddie Dawkins',\n",
       " 'Jevan Wright',\n",
       " \"Paul O'Leary\",\n",
       " 'Darren Good',\n",
       " '10m boat Lucky Jim',\n",
       " 'boat: 4 occupants',\n",
       " 'John Bayliss (or Ballis)',\n",
       " 'David R. Miles',\n",
       " 'Steven Fawcett',\n",
       " 'Erik Bjurstrom',\n",
       " 'Hudson Anthony',\n",
       " 'Eric Aubrey',\n",
       " 'Brooklyn Daniel',\n",
       " 'Mark Jury',\n",
       " 'Robert Walker',\n",
       " 'Kyle Gruen',\n",
       " 'Aaron Muilwyk',\n",
       " 'Derek Garth Prinsloo',\n",
       " 'E. J. McHugh',\n",
       " 'Prime Minister Harold Holt',\n",
       " 'Taylor Holley',\n",
       " 'Tyler McConnell',\n",
       " 'I.S.A.C. Ambulance driver',\n",
       " 'Norman Payne',\n",
       " 'Janie Pelser',\n",
       " 'Tarcisio Mayora',\n",
       " 'Enoque Pereira dos Santos',\n",
       " 'Alessandro Gomes de Souza',\n",
       " 'Hukolapa Laiokeke',\n",
       " 'T�ophane Tauiratea',\n",
       " 'boat, occupants:  Mike Taylor & his son, Jack, age 9 ',\n",
       " 'Clarence Master',\n",
       " 'a Frenchman',\n",
       " '12 people',\n",
       " 'Trevor Wright',\n",
       " 'Katina Zinner',\n",
       " 'Jessica Stephens',\n",
       " 'Lidua, a male',\n",
       " 'Jorge Fernandez',\n",
       " 'David Carr',\n",
       " 'Cooper Stetson',\n",
       " 'Carley Schlentz',\n",
       " 'Rianto',\n",
       " 'E.S.',\n",
       " 'Robert Douglas',\n",
       " 'Colten Cicarelli',\n",
       " 'Joe Lees',\n",
       " 'Kevin Spradlin',\n",
       " 'Chris Haynes, Jr.',\n",
       " 'L.F.',\n",
       " 'Ben Linden',\n",
       " 'Lisa Miller',\n",
       " 'Alicia',\n",
       " 'George Athanasenas',\n",
       " 'Andy Schupe',\n",
       " 'Copley',\n",
       " 'Erika Hailey',\n",
       " 'Warren Tooze',\n",
       " 'Mr. Kalantar',\n",
       " 'Thomas Floyd Kennedy ',\n",
       " 'Richard Carnoy',\n",
       " 'Allison Foreman',\n",
       " 'E.C.P, a U.S. Marine',\n",
       " 'William Barnes',\n",
       " 'Bethany Hamilton',\n",
       " 'Jimmy Johnson',\n",
       " 'Kaugatava Orurutm',\n",
       " 'Charles L. Morgan',\n",
       " 'Clyde steamer Glen Sannox',\n",
       " 'Michael Mendez',\n",
       " 'Angelina DelRosso',\n",
       " 'Earl Brewster',\n",
       " 'Daryl Zbar',\n",
       " 'Zita Steadman',\n",
       " 'Herbert J. Mann',\n",
       " 'James Smith, murder victim',\n",
       " 'Stuart Rogers',\n",
       " 'Ian Nolan',\n",
       " 'Wesley Vickrey',\n",
       " '5 m boat, occupants: Don & Margaret Stubbs',\n",
       " 'male from Tampa',\n",
       " 'Albert Tyler',\n",
       " 'Willie, an aboriginal',\n",
       " 'Eric Larsen',\n",
       " 'Stephen Flowers',\n",
       " 'Felipe Tonga ',\n",
       " 'Ernest Watson',\n",
       " 'Khanyisile Momoza  ',\n",
       " 'Philip C. Diez',\n",
       " 'Brad Hibshman',\n",
       " 'Frank Logan',\n",
       " 'Inflatable dinghy, occupants: Jasmine Wigley, Greg Wilkie, Phil Rourke & Fleur Anderson',\n",
       " 'Antonio Fonzzo',\n",
       " 'Johan Brink',\n",
       " 'Robert Webb',\n",
       " 'Mr. M. King',\n",
       " 'Adam Urban ',\n",
       " 'Megan Wallis',\n",
       " \"12' boat,           2 occupants\",\n",
       " 'George Walter',\n",
       " 'Aisake Sadole',\n",
       " 'canoe, occupants: Chris Newman & Stewart Newman',\n",
       " 'Ferdinand Teanyouen',\n",
       " 'Tim Wild',\n",
       " 'Hannah Mayo-Foster',\n",
       " 'Norman Hargreaves',\n",
       " 'Hans Yoachim Schapper',\n",
       " 'Joseph Simms',\n",
       " 'Martha Joy Morrell',\n",
       " 'Mark Quirt',\n",
       " \"18' launch, occupants: 2 fishermen\",\n",
       " 'Arthur Evans',\n",
       " 'William Kennedy',\n",
       " 'Dennis Patrick Murphy',\n",
       " 'Kazuhiho Kato',\n",
       " 'B, a young English officer',\n",
       " 'Joe Davis',\n",
       " 'E.W. Bilton',\n",
       " 'Frank ---',\n",
       " 'Achmat Hassiem',\n",
       " 'an Indian male',\n",
       " 'Chuck Anderson',\n",
       " 'Kobus de Jager',\n",
       " 'Brandon Dugan',\n",
       " 'Dave Fogelberg',\n",
       " 'Cedric Coucom',\n",
       " 'Kori Robertson',\n",
       " \"15' boat\",\n",
       " \"inflatable rescue boat. Occupants: Lauren Johnson &. Kris O'Neill\",\n",
       " 'Kanematsu Oshiro',\n",
       " 'Chan Sze-king',\n",
       " \"12' boat of Alf Laundy\",\n",
       " 'Robert Kehl',\n",
       " 'Zola Dale',\n",
       " 'Charlie Corrado',\n",
       " 'Reginald Ogilvie',\n",
       " 'seaman from the York',\n",
       " 'Kevin Dinneen',\n",
       " 'Beau Browning',\n",
       " 'William Cashman',\n",
       " 'Frank Carrell',\n",
       " 'Sam Myer',\n",
       " 'Charles H. Petty',\n",
       " 'Hal A. Thompson, Jr.',\n",
       " 'Carl Shemaly',\n",
       " 'Glenn Simpson',\n",
       " 'Luke Parker',\n",
       " \"24' boat Shark Tagger Occupant Keith Poe\",\n",
       " 'Josh Schrutt ',\n",
       " 'William Bartlett',\n",
       " 'Chase Edwards',\n",
       " 'Abraham Moreno',\n",
       " 'Cameron Bayes',\n",
       " 'Robert Sato',\n",
       " 'E.W.',\n",
       " 'Wayne Monk ',\n",
       " 'Patrick Thornton',\n",
       " 'Paul Ruhle',\n",
       " 'Peter Albury',\n",
       " 'Gian Paolo Porta Casucci',\n",
       " 'Greg Long',\n",
       " 'J.W. McDonald',\n",
       " 'Elinor Dempsey',\n",
       " 'Wagner Cataldo-Beugleu',\n",
       " \"12' ski, occupants: Bill Dyer & Cliff Burgess \",\n",
       " 'Alex Mumzhiu',\n",
       " 'hobiecat, occupants: Judy Lambert  & a friend',\n",
       " 'John McCall',\n",
       " 'Jim McManus',\n",
       " 'William Shaw',\n",
       " 'Robert Gunn',\n",
       " 'Fred White',\n",
       " 'Simon Bruce',\n",
       " 'Earl DeVore',\n",
       " 'Spicer',\n",
       " 'Valentin Alonso',\n",
       " 'Christine Kaesler',\n",
       " 'John Dunn',\n",
       " 'Eric Stedman',\n",
       " 'Mr. Daniels',\n",
       " 'Larry Olson',\n",
       " 'Robert Stinson',\n",
       " 'David Peltier',\n",
       " 'Emma Klopchin ',\n",
       " 'Eric Ridley',\n",
       " \"John O'Brien\",\n",
       " 'boat, occupants: 4 men',\n",
       " 'Amir Badi',\n",
       " 'Simeon (Samuel) Ettelton',\n",
       " 'Sub-Lieut. Edwin Michael Marks, of H.M.S. Sheffield',\n",
       " 'Mustafa Al Hammadi',\n",
       " 'Sandor Melian',\n",
       " '4 French divers',\n",
       " '6 m skiboat, occupants: Alex Mamacos, Noel Glintenkamp, Tony Mountifield & Dillon Alexandra',\n",
       " 'J. Magbanua',\n",
       " 'Occupants: Andrew & Ben Donegan & Joel Ryan, ',\n",
       " 'Gary Smith',\n",
       " 'Frank Paxman',\n",
       " 'Antonio de Carvalho Miguel Pereira ',\n",
       " 'Matthew May',\n",
       " 'Joseph Meredith',\n",
       " 'yacht Southerly Buster',\n",
       " 'Zohar Kritzer ',\n",
       " 'Ian Martin Redmond',\n",
       " 'British sailor from the  F-107',\n",
       " 'Kila',\n",
       " 'M.G.',\n",
       " 'Boulabha� Ishmael',\n",
       " 'Douglas Kuchn, Jr.',\n",
       " 'Venus  Lindsey ',\n",
       " 'Jack Moir',\n",
       " 'Wolfgang Leander',\n",
       " 'Raymond T. Gold',\n",
       " 'Robert Wherley',\n",
       " 'Robert Rice',\n",
       " 'Ross Menking',\n",
       " 'William Tennant',\n",
       " 'Richard Lynch',\n",
       " 'Dev De Lange',\n",
       " 'Marian Leaf',\n",
       " ' Braxton Rocha',\n",
       " 'an elementary school teacher',\n",
       " 'Ryan Evans',\n",
       " 'A Japanese diver',\n",
       " 'H. McGregor',\n",
       " 'Donald Gard',\n",
       " 'Donna Hutson',\n",
       " 'Douglas Lawton',\n",
       " 'Eric Nerhus',\n",
       " 'John Campbell',\n",
       " 'Don Berry',\n",
       " 'Dahkus, a Molussa Moro',\n",
       " 'Harry Pali',\n",
       " 'Judson Newton',\n",
       " 'Ulrick Baker or William M. Baker, a sailor from H.M.S. Folkestone',\n",
       " 'David Zarnowski',\n",
       " 'Leroy Hancock',\n",
       " 'Ludwig Gerricke',\n",
       " 'Lee Mellin',\n",
       " 'Nick Kennedy',\n",
       " 'Marik-Pokas',\n",
       " 'Robert Large',\n",
       " 'P.L.',\n",
       " 'Shawn Bushong ',\n",
       " 'a fisherman / diver',\n",
       " 'Phil Kitchin',\n",
       " 'Matthew Smithers',\n",
       " 'Manuel Alvelo',\n",
       " 'Walter L. Huges',\n",
       " 'Anna Wurn',\n",
       " 'William Goettel',\n",
       " 'a Swedish sailor',\n",
       " 'Timothy Knipper',\n",
       " 'Rameshwar Ram Dhauro',\n",
       " 'George Plowman',\n",
       " 'Percy Evensen',\n",
       " 'Sgt James Lacasse & Sgt David Milsten, USAF divers',\n",
       " 'a refugee',\n",
       " 'Lance Morris',\n",
       " 'John Till',\n",
       " 'Ida Parker & Kristen Orr',\n",
       " 'Alaina DeBina',\n",
       " 'Sylvia Lanner',\n",
       " 'Donald Battye or David James Battye',\n",
       " 'Swedish tourist',\n",
       " 'Jack Greenlaw',\n",
       " 'Yvonne Vladislavick',\n",
       " 'Mike Seymore',\n",
       " 'Scott Stephens',\n",
       " 'Majin Alvarez Piedra',\n",
       " 'William Bolster',\n",
       " 'Jason Cull',\n",
       " 'Musa Mohammed',\n",
       " 'Robin Clausen',\n",
       " 'Troy Patterson',\n",
       " 'Ronald Kerwand',\n",
       " 'W. Davidson',\n",
       " 'Edward Pritchard',\n",
       " 'Giuseppe Campodonico',\n",
       " 'Luis Morales',\n",
       " 'Charles Heitor Barbosa Pires',\n",
       " 'Martin Berg',\n",
       " 'Frank Donahue, a movie stuntman',\n",
       " 'Dave Hamilton-Brown & Ant Rowan',\n",
       " 'Robert Milroy',\n",
       " 'Johannes J. Rickert',\n",
       " 'Gavin Simpson',\n",
       " 'Alysa Whetro',\n",
       " 'John Sojoski ',\n",
       " 'Quassa, a Torres Strait Islander',\n",
       " 'Dr. J. J. Marais',\n",
       " 'Yeung Tam-ho (female)',\n",
       " 'Wellington dos Santos ',\n",
       " 'Craig Bovim',\n",
       " 'Kai Rittgers',\n",
       " 'Jose Diaz',\n",
       " 'Wendi Zuccaro',\n",
       " 'Lisa Alexander',\n",
       " 'Christian Fairbourne',\n",
       " 'Pasinganlas',\n",
       " 'Gerhard van Zyl',\n",
       " 'Ian Watkins',\n",
       " 'James R. Duryea',\n",
       " 'Marc Tayman',\n",
       " 'The widowed Marchioness of Lendinez',\n",
       " 'Nolan Sutliff',\n",
       " '8 US airmen in the water, 1 was bitten by a shark',\n",
       " 'Michael Hootman',\n",
       " 'Jer�nimo Pereira da Paz ',\n",
       " 'Robert W. Russell',\n",
       " 'Nicol Pringle',\n",
       " 'Jai Hennessey',\n",
       " 'Griffith Yamaguchi',\n",
       " 'a dinghy, occupant Neil Parker',\n",
       " 'Henry Jones',\n",
       " 'Matangusa Mzize',\n",
       " 'Joey Nocchi',\n",
       " 'Gabriel Fernandez',\n",
       " 'Mark Riglos',\n",
       " 'Ian Galbraith',\n",
       " 'Charles Wadra',\n",
       " '\"Lockie\" Smith',\n",
       " 'Olivia Hislop',\n",
       " 'John Alpheus',\n",
       " 'James Cornell',\n",
       " 'Gary W. Floyd',\n",
       " 'Josh Vaughan',\n",
       " 'Dr. Lucas',\n",
       " '6 m skiboat, occupants: P.A. Reeder & crew',\n",
       " 'Hilda Keller',\n",
       " 'John McKeig',\n",
       " 'Yako Yajima',\n",
       " 'Tyler Cyronak ',\n",
       " 'Dan Lankheit',\n",
       " 'Bethany Edmund',\n",
       " 'Navy seaman',\n",
       " 'O.D.',\n",
       " 'Fishing vessel. Occupants Gerry Malabago, Mark Anthony Malabago & 2 others',\n",
       " 'Peter Cole',\n",
       " 'Bernard Gill',\n",
       " 'Bruce Pennington',\n",
       " 'Shigeichi Kawamura',\n",
       " 'Frank (Scott) Betz',\n",
       " 'Mrs. Reg Fox',\n",
       " 'Kaori Fiack ',\n",
       " 'Mathieu Dasnois',\n",
       " 'W.D. Simpson',\n",
       " 'Peter Hendricks',\n",
       " 'Clyde Kelly Ormand, Jr.',\n",
       " 'Glenn Henderson',\n",
       " 'Malvis Cristino de Souza',\n",
       " 'Neal Stephenson',\n",
       " 'Ronald Bowers',\n",
       " 'John Guge',\n",
       " 'Philip Sweeting',\n",
       " 'Occupants: Luke Jones & James Sequin  ',\n",
       " 'Steven Burdelski',\n",
       " 'Vanda Pierri',\n",
       " 'John Wonham',\n",
       " 'Daniel Phillips',\n",
       " 'Colette Wilson',\n",
       " 'Lowell J. Bemis',\n",
       " 'James F. Jacobs',\n",
       " 'Robert  Thomas',\n",
       " 'Murray Henderson',\n",
       " 'Michael Massey',\n",
       " 'Ralph Nelson',\n",
       " 'Clyde Leeper',\n",
       " 'Andre Marais & Tony Jensen',\n",
       " '5.4 m boat, occupant: Ivan Anderton',\n",
       " 'Nicky Alberts',\n",
       " 'Brad Milliken',\n",
       " 'Ricardo Garcia Santo S� ',\n",
       " 'Chad Hooker',\n",
       " 'John Brodeur',\n",
       " 'William Joseph Dobson.',\n",
       " 'Roy Cloke',\n",
       " 'crayfish boat. Occupants: Dave & Mitchell Duperouzel: ',\n",
       " 'Harry Weatherall',\n",
       " 'Martin Fisher, radio operator',\n",
       " 'Yves Koidrin',\n",
       " 'Japanese seamen',\n",
       " 'male, a Pan American pilot wearing a flourescent bathing suit',\n",
       " 'Keith Appleby',\n",
       " 'Simon Hammerton',\n",
       " 'Andrew, a Torres Strait Islander',\n",
       " 'John McDonald',\n",
       " 'Jim Yarber',\n",
       " 'C. Stokes',\n",
       " 'George Wright',\n",
       " 'Helmut Himmrich',\n",
       " 'Fishing boat. Occupants: Yunus Potur & Ali Durmaz',\n",
       " 'Kara Benagi, from Hula',\n",
       " 'Dave Marcel',\n",
       " 'males, shark fishermen',\n",
       " 'Dick Roads ',\n",
       " 'Philip Barone',\n",
       " 'Robert C. Hightower',\n",
       " 'Tara Dean',\n",
       " 'Anti Ketola',\n",
       " 'Laurie Ross ',\n",
       " 'Gerhard Visser',\n",
       " 'Pradisha Chanderpaul',\n",
       " 'Takai Otiai',\n",
       " 'Nelson',\n",
       " 'Knox Harris',\n",
       " 'Gerald Arthur Edwin Denny',\n",
       " '\"Old Cuba\"',\n",
       " 'F.P. Jones',\n",
       " 'James S. Takeuchi',\n",
       " 'Luciano Guimar�es dos Santos ',\n",
       " 'Daniel Thompson, lifeguard',\n",
       " 'John Puljak',\n",
       " 'Jacob Alegood',\n",
       " 'Adam Strange',\n",
       " 'Oaulkurt-Pape',\n",
       " 'Roger Moore',\n",
       " 'a male from the Second Seabee Battalion',\n",
       " 'Bansie Koide',\n",
       " 'Julia Anne Mittleberg',\n",
       " 'Surf boat with 5 lifesavers on board',\n",
       " 'Megan Halavais',\n",
       " 'Hawaiian boy',\n",
       " 'Phil Tanner',\n",
       " 'second cook',\n",
       " 'Stacie Alexander',\n",
       " 'Cabin boy of the Bonnie Dundee',\n",
       " 'William C. Lamb',\n",
       " 'Ron Deguilmo',\n",
       " 'Andrew Duenas',\n",
       " 'Rose Ann Savea',\n",
       " 'Gabe Martino',\n",
       " 'Thomas (or Tony) Madison',\n",
       " '\"3 shark attacks in 3 days\"',\n",
       " 'Elizabeth Fields',\n",
       " 'inflatable dinghy, occupants: Craig Ward & Gavin John Halse',\n",
       " '5 m skiboat; Stephanie',\n",
       " 'Chad Smith',\n",
       " 'Jacque Mostert',\n",
       " 'Leonard Gant',\n",
       " 'Denver Struwig',\n",
       " 'James Barefoot',\n",
       " 'Joshua Brust',\n",
       " 'Brian Love',\n",
       " 'John Buchanan',\n",
       " 'Mark Moquin',\n",
       " 'Paul Guyot',\n",
       " 'Chad Reiker',\n",
       " 'James Knight',\n",
       " 'crew member of the Nieuwstadt',\n",
       " 'Brenda King',\n",
       " 'Michael A. Reist',\n",
       " 'Sarah Peggy Sargent',\n",
       " 'Jerry',\n",
       " 'Ernest Tomson',\n",
       " 'Mr. Paniry',\n",
       " 'Raul Armenta ',\n",
       " 'Tony Crabtree',\n",
       " 'Keone Miyake',\n",
       " 'Kaitlin Dakers',\n",
       " 'Intriago Diego',\n",
       " 'Craig Gibson',\n",
       " 'Kim Bade',\n",
       " 'Francisco Edmund Blanc, a scientist from National Museum in Paris',\n",
       " 'Aaron Perez',\n",
       " 'Sutton Davis',\n",
       " 'boat, occupants: 2 men',\n",
       " 'soldier in NJ National Guard',\n",
       " 'Percy Carroll',\n",
       " 'Richard Kohler',\n",
       " 'Blake French',\n",
       " 'A.S. Festing',\n",
       " 'Jonathan Allen',\n",
       " 'Alfetto',\n",
       " 'Jalem',\n",
       " 'James Messot, a Thursday Islander',\n",
       " 'Joel Tatro',\n",
       " 'Dale Strand',\n",
       " 'US Army fliers',\n",
       " 'Jan Lisewski',\n",
       " 'Dillon Bowen',\n",
       " 'Russell Lindsay',\n",
       " 'Occupant: Grant Wardell',\n",
       " 'George Lundberg',\n",
       " 'Darryl Kriel',\n",
       " '5.4 m fibreglass boat, occupants: Robert & James Hogg',\n",
       " 'Mike Higgins',\n",
       " 'Captain John Donnell',\n",
       " 'a Hungarian refugee',\n",
       " 'E.F. MacEwan',\n",
       " 'a Solomon Islander',\n",
       " 'Andrew Goggin',\n",
       " 'a native boy ',\n",
       " 'Robert Kurrek',\n",
       " 'Jan-Henrick Opperman',\n",
       " '3 people',\n",
       " 'Greg Harrison',\n",
       " 'A. Steinstecke',\n",
       " 'Patape',\n",
       " 'Dan Argyll',\n",
       " 'Wild Oats XI',\n",
       " 'John Sadler',\n",
       " \"Adam 'Biff' D'Esposito\",\n",
       " 'Barry Geldenhuys',\n",
       " 'Gerard Itema',\n",
       " 'Robert Richard',\n",
       " 'canoe, occupant: Herman Taman',\n",
       " 'Chris Hoyas',\n",
       " 'Rixon, an aboriginal',\n",
       " 'Severed human foot washed ashore (in sneaker with 2 Velcro closures)',\n",
       " 'Barbara Elsa Strauss',\n",
       " '2 incidents north of Vero Beach',\n",
       " 'Neil Tapp, cadet lifesaver',\n",
       " 'Bruce Lang',\n",
       " 'Andrew Carter',\n",
       " 'Sage St. Clair',\n",
       " 'Jose Molla',\n",
       " 'Beverly White',\n",
       " 'Belton Larkin',\n",
       " 'Michael Preston',\n",
       " 'Wayne Brodsky',\n",
       " 'Aaron Shulman',\n",
       " 'American sailor',\n",
       " 'Mark Ayre',\n",
       " 'boat, 2  occupants',\n",
       " 'Todd Robinson',\n",
       " 'Ross Doe',\n",
       " 'Dakota Hatfield',\n",
       " 'Cheryl Lowman',\n",
       " 'Kathi Peters',\n",
       " 'Fishing boat.   occupants: Laz H�seyin, Ali Osman & Tursun \\n',\n",
       " 'Jeff Brown',\n",
       " 'Halletts',\n",
       " 'Jeffrey Clark',\n",
       " 'Arthur Hopkins',\n",
       " 'a Samoan boy',\n",
       " 'Sgt. Larry Charles  Graybill',\n",
       " 'Richard Branson',\n",
       " 'Olivier Vilain ',\n",
       " 'Anonymous  ',\n",
       " 'Eric Fotherby',\n",
       " 'Benjamin Rios',\n",
       " 'Suzanne Dreufus',\n",
       " 'Matt Tichenor',\n",
       " 'Jeff Horton',\n",
       " 'Servy LeRoux',\n",
       " 'Dinah Halstead',\n",
       " 'Friedrich Burgstaller.',\n",
       " 'English holiday-maker',\n",
       " 'K. Tracy',\n",
       " 'Michael Casey',\n",
       " 'David Crick, fisherman ',\n",
       " 'Colum Tinley',\n",
       " 'J. Wolffe',\n",
       " 'Ben Edelstein',\n",
       " 'Jordan Carter',\n",
       " 'Keven Dolsky',\n",
       " 'Anthony McKnight',\n",
       " 'Jimmy Grunewald',\n",
       " 'Bettina Pereira',\n",
       " 'Terry Adams',\n",
       " 'Gene Aldrich',\n",
       " 'S�rgio Adriano Gomes Silva',\n",
       " 'Soso, a male',\n",
       " 'J.H. Seddon',\n",
       " 'William J. Goins',\n",
       " 'Daniel Kennedy',\n",
       " '2 Cuban brothers',\n",
       " 'Jack May',\n",
       " 'Kaleva',\n",
       " 'George Sedgwick',\n",
       " 'Sindlin',\n",
       " 'Elizabeth Gardner',\n",
       " 'P. Wagener',\n",
       " 'Ward Walkup',\n",
       " 'Sikketho Denge',\n",
       " 'Reed Richards',\n",
       " 'M. Schweitzer',\n",
       " '16-foot launch, occupants: George Casey, Jack Byrnes, Julian Reynolds & Denny Laverty',\n",
       " 'N. F.',\n",
       " 'Thomas Henry Durbridge',\n",
       " \"10' skiff. Occupants F. Whitehead & L. Honeybone\",\n",
       " 'Tony Franciscone',\n",
       " \"12' boat. Occupants:  Capt. E.J. Wines, Maj. W. Waller & Larry Waller\",\n",
       " 'William Lee Bailey',\n",
       " 'Liya Sibili',\n",
       " 'Mary Eggemeyer',\n",
       " 'Tim van Heerden',\n",
       " 'John Vasbinder',\n",
       " 'Mary Pound',\n",
       " 'L. Aldridge',\n",
       " 'A.H.C.',\n",
       " 'Craig Rogers',\n",
       " 'John Roult',\n",
       " 'Shane Nyari',\n",
       " 'rowboat, occupant: Joe Whitted, Christopher Quevedo & 2 Willard Brothers',\n",
       " 'Anthony Arnachallan ',\n",
       " 'Tim West',\n",
       " \"16' Dreamcatcher. Occupant: Ian Bussus\",\n",
       " 'Walter Howe',\n",
       " 'C.B. Larkin, a Royal Navy diver',\n",
       " 'Noel Holliday',\n",
       " 'Desmond Woodhams',\n",
       " 'Ronald R. Powell',\n",
       " 'Indian guide',\n",
       " 'Mauricio Guzman Castaneda',\n",
       " 'Josh Crawford',\n",
       " 'a young Indian boy',\n",
       " 'Lindsay  Munn',\n",
       " 'James Jantjes',\n",
       " 'James Rogers',\n",
       " 'Giles Gordon',\n",
       " 'Jessica Abe',\n",
       " 'John Carlson',\n",
       " 'Ronald Mason',\n",
       " 'Robert Williams',\n",
       " 'Louis Goiran',\n",
       " 'Kyle Dickens',\n",
       " 'Gary Seymour',\n",
       " 'Graham Hurley',\n",
       " 'Master Coleman',\n",
       " 'pilot boat, occupants; Captain McAlister & crew',\n",
       " 'Charles De Wet Reis',\n",
       " 'Lohia Raho, a male',\n",
       " '7 m boat, occupants: Tara Remington & Iain Rudkin',\n",
       " 'George Pacey',\n",
       " 'Nicholas Nagurney',\n",
       " 'Herbert McFarlane',\n",
       " 'Zachary Tyke Standridge ',\n",
       " 'John Benjamin',\n",
       " 'Sergi Zaloukaev',\n",
       " 'Dean Norburn',\n",
       " 'Kuenzler',\n",
       " 'Tony Simmonson',\n",
       " 'Michael Demasi',\n",
       " 'John Fry',\n",
       " 'Martin Lund',\n",
       " 'Kim Seibel ',\n",
       " 'Mosley',\n",
       " 'Beth Firchau',\n",
       " 'D. Trayling',\n",
       " 'William A. Munro',\n",
       " 'Isaul Coba',\n",
       " 'Luyolo Mangele',\n",
       " 'Dan Prather',\n",
       " 'Kevin Swanson',\n",
       " 'Alcindo de Souza Le�o J�nior',\n",
       " 'Cheryl Teague',\n",
       " 'A.W.F. Patterson',\n",
       " '\"a native\"',\n",
       " 'Samuel Jennings, a deserter from the British frigate Milford',\n",
       " 'Sailor of tuna vessel No.12 Taiyo Marei',\n",
       " 'Kaholo',\n",
       " 'Ashley Ramage',\n",
       " 'King Scherer',\n",
       " 'Charles Duck',\n",
       " 'Filmer',\n",
       " 'Samuel Tristing',\n",
       " 'Travis Raigan',\n",
       " 'Andrew Lindop',\n",
       " 'Woody Vidgens',\n",
       " 'Margaret Cruse',\n",
       " '2 youths',\n",
       " 'Wilbert Gibbs',\n",
       " 'Mr. Kelsall',\n",
       " 'Edimilson Henrique dos Santos',\n",
       " 'Annie Mills',\n",
       " 'Colin Wrankmore',\n",
       " 'male, a US soldier',\n",
       " 'a resident of Barangay Luz',\n",
       " 'A candidate for initiation',\n",
       " 'Cole Taschman',\n",
       " 'Mr. Barnsfield',\n",
       " 'Erez Lev',\n",
       " 'Alexis Huesgen',\n",
       " 'Heather Boswell',\n",
       " 'Dr. D.H. Teas',\n",
       " 'Colonel Harry J. Earle',\n",
       " 'Filipino soldier',\n",
       " 'Tatiano Silva de Melo',\n",
       " 'Neil Williams',\n",
       " 'Antonio du Val',\n",
       " 'Michael Petas',\n",
       " 'John Clare',\n",
       " 'Karen Bredesen Str�te ',\n",
       " 'Ron Christmas',\n",
       " 'Christy Wapniarski',\n",
       " 'Kennon Cahill',\n",
       " 'Phillip South Collin',\n",
       " 'Sherrington',\n",
       " 'Raquel Martin',\n",
       " 'Colin Biggs',\n",
       " 'Kimberly Popp',\n",
       " 'Charles Chambers',\n",
       " 'Peter Weir',\n",
       " 'Nahalehau',\n",
       " \"40' bonito boat\",\n",
       " 'Lindsay Phillips',\n",
       " 'Abdul Imam (male)',\n",
       " 'Dr. Rolf Johan Lund',\n",
       " 'Fisheries trainee',\n",
       " 'Jack Smedley',\n",
       " 'Larry Peebles',\n",
       " 'Rich Reed',\n",
       " 'inflatable dinghy, occupants: Ben Cropp, J. Harding & T. Fleischman',\n",
       " 'Peter McCallum',\n",
       " 'K.O.',\n",
       " 'Aric Hollingsworth',\n",
       " 'William McFlood',\n",
       " 'Nistritani Taked',\n",
       " 'Jimmy Napeahi',\n",
       " 'Patricia Trumbull',\n",
       " '21 m sportfishing vessel Seabiscuit. Occupants: Captain Louie Abbott & 2 dozen anglers',\n",
       " 'Jack Dagworthy',\n",
       " \"16' cabin cruiser with 35 hp outboard motor\",\n",
       " 'Mr. Jurincic',\n",
       " 'J. Bailey',\n",
       " 'Lucy Stone ',\n",
       " 'Arthur Wootton',\n",
       " 'Teresa Holloway',\n",
       " 'Jay Worrell',\n",
       " 'Armando Chavez',\n",
       " 'Francisco Zimila',\n",
       " 'Jon Holcomb',\n",
       " 'Zane Smith',\n",
       " 'Peter Holland',\n",
       " 'William Johnson',\n",
       " 'a Japanese diver',\n",
       " 'Steven Fogarty',\n",
       " 'Kelly Getzfread',\n",
       " 'Jacques Peens',\n",
       " 'David Younger, Torres Strait Islander',\n",
       " 'Donald Hamilton',\n",
       " 'Dennis Vorster',\n",
       " 'Todd R. Wenke',\n",
       " 'Lee Rhoades',\n",
       " 'Preston Pearman',\n",
       " 'Roddy Lewis',\n",
       " 'Rodolphe Arri�guy',\n",
       " 'Ken Kelton',\n",
       " 'Alan McIntosh',\n",
       " 'Rutu Meli',\n",
       " 'Jasmine Cox',\n",
       " 'Naiane Barbosa Bringel',\n",
       " 'Jackie Boyce',\n",
       " 'John Petty',\n",
       " 'Frederick Aubrey Hooper',\n",
       " 'Allen ___',\n",
       " 'Rory Corr',\n",
       " 'boat, occupants: Jacob Kruger & crew',\n",
       " 'Lorenzo Kroutz ',\n",
       " 'L.G',\n",
       " 'Luciano Costanzo',\n",
       " 'Emil Uhlbrecht & unidentified person',\n",
       " 'Leslie Cook',\n",
       " 'Carl Derrick Benzoin',\n",
       " 'Mario Castellanos',\n",
       " 'Ted Collins',\n",
       " \"a ship's steward\",\n",
       " 'Justin Davidson',\n",
       " 'Daniel Macatee',\n",
       " 'Richard Corrack',\n",
       " '4.8 m skiboat, occupants: C. Cockroft & 3 men',\n",
       " 'Ashlyn Gilpin',\n",
       " 'Sochidjin',\n",
       " 'Joseph Lundy',\n",
       " 'Dusty Rhodes',\n",
       " 'Ranji Lal',\n",
       " 'M. Worman',\n",
       " 'Frances Grause',\n",
       " 'William Muller',\n",
       " '5 children',\n",
       " 'Dawood Pili',\n",
       " 'Lobster fishermen x 2',\n",
       " 'David Jensen',\n",
       " 'Occupants of skin boats',\n",
       " 'Dylan Feindt',\n",
       " 'Monte Gray',\n",
       " 'Steve Cutbirth',\n",
       " 'Ryan Shapiro',\n",
       " 'Gerald Correria',\n",
       " 'Mario Lari',\n",
       " 'Brandon Beaver',\n",
       " 'Rose Sutcliffe',\n",
       " 'Dick Lahou',\n",
       " 'Josh Myers',\n",
       " 'A dinghy',\n",
       " 'Pat DuNah',\n",
       " 'Henry Peterson',\n",
       " 'Mick Coleman',\n",
       " 'Patterson (John) Nikuniko',\n",
       " 'Hank Greenberg',\n",
       " 'Mark Byrne',\n",
       " 'Blake Garnett',\n",
       " 'Richard Moss',\n",
       " 'Adeline Lopez',\n",
       " 'Matthew McIntosh',\n",
       " 'Bob Smith',\n",
       " 'Vic Calandra',\n",
       " '6 m skiboat, occupants: Terry McManus, Dan Clark and Blackie Swart',\n",
       " 'Jack Horner',\n",
       " '5 m skiboat Graanjan, occupants: Rudy van Graan, Jan de Waal Lombard',\n",
       " 'John Foley',\n",
       " 'Kliki Ndlazi',\n",
       " 'Jellannie Solomon',\n",
       " 'Betual Tivane',\n",
       " 'Brendan Denton',\n",
       " 'Ralph Reginald Rives, Jr.',\n",
       " 'Brian Alcorn',\n",
       " 'Eddie Aubert',\n",
       " 'plywood dinghy, occupants: Jack Deegan & Trevor Millett',\n",
       " 'Clayton Sado',\n",
       " 'Tom Durrance',\n",
       " 'Jules Patterson',\n",
       " 'Filippo Schiavo ',\n",
       " 'A dory: occupants : 2 men',\n",
       " 'Errol Fourie',\n",
       " 'Ms Tori Lawrence',\n",
       " 'catboat. Occupants: Captain Tuppe & 2 young ladiesr',\n",
       " 'J. L P�rez-D�az',\n",
       " 'Esrona Johnson, Torres Strait islander',\n",
       " 'Thomas Houghton',\n",
       " 'Matthew McGrath',\n",
       " 'Harry Griffet',\n",
       " 'Lacy Webb',\n",
       " 'Levi Chandler',\n",
       " 'Eseromi',\n",
       " 'Michael Rutzen',\n",
       " \"Phillip 'Flip' Steenkamp\",\n",
       " 'David Anderson',\n",
       " 'Bruce Coucom',\n",
       " 'Frank Johnson',\n",
       " 'Ema Aquilera Prada',\n",
       " 'Leslie Oswald Harris',\n",
       " 'Yee Wing Ping (male)',\n",
       " 'Henry Usimewa',\n",
       " 'Ricky Stringer',\n",
       " 'Sharon Wolfe Cranston',\n",
       " 'Charles Kantor',\n",
       " 'Patrick Moore',\n",
       " 'Jimmy Jackson',\n",
       " 'Hoang Thi Thuy Hong ',\n",
       " 'Whitefield Rolle',\n",
       " 'Sally Jo Scott',\n",
       " 'Mark Penches',\n",
       " 'William Lloyd',\n",
       " 'Alwyn Bevan',\n",
       " 'Moonsamy Dayalan',\n",
       " 'Charles Edwards',\n",
       " 'Oliver Schorebreak',\n",
       " 'Alex Lancaster',\n",
       " 'Rosa Lopez',\n",
       " 'Gesoun Gentel',\n",
       " 'Haitian refugees perished when their boat capsized in choppy seas',\n",
       " 'Moses Nunes de Albuquerque Junior',\n",
       " '3 sailors',\n",
       " 'Alfred Boldner',\n",
       " 'Lance Cameron',\n",
       " \"17' fishing boat; occupants 2 men\",\n",
       " 'James Green',\n",
       " 'Wayne Leong',\n",
       " 'Michael van Niekerk',\n",
       " 'Otto Lee',\n",
       " 'Lt. Edward Hearn',\n",
       " 'Miriam Picklesimer',\n",
       " 'James McKee',\n",
       " 'R. Bartlett',\n",
       " 'Captain Mark Robinson',\n",
       " 'Hoku Aki',\n",
       " 'Tom Bartlett',\n",
       " 'Ronald Johnson',\n",
       " 'Mike Richardson',\n",
       " 'Horton Chase',\n",
       " 'Bright Cooper',\n",
       " 'boat, occupants: Captains Charles Anderson, Emit Lindberg & Oscar Benson',\n",
       " 'James Smodell',\n",
       " 'E. Reynolds',\n",
       " 'Richard Hatch',\n",
       " 'Fabrizio Marini',\n",
       " 'Kyle K.',\n",
       " 'Jean Hotchkiss ',\n",
       " 'Patrick Desmond Lynch',\n",
       " 'Arthur Quick',\n",
       " 'k',\n",
       " 'Daniel Mangel, seaman',\n",
       " 'Dylan Peyton',\n",
       " 'Akira Tuchiya',\n",
       " 'Rodney Castle',\n",
       " 'Yagirua Agiramon',\n",
       " 'Shintaro Hara',\n",
       " 'Peter Barron',\n",
       " 'Gordon Wilson',\n",
       " 'Donald James',\n",
       " 'Joe Prosch',\n",
       " 'Gregory Moffatt',\n",
       " 'Gregory Kuehlewind ',\n",
       " 'Mr. Kuppasamy',\n",
       " 'Garrett Gollihugh',\n",
       " 'Odd Ingebretsen',\n",
       " 'Tony Szolomiak',\n",
       " 'Norman Piexotto',\n",
       " 'Mary Dunn',\n",
       " 'Val Valentine',\n",
       " 'Japanese male, one of crew of pearl culture survey ship',\n",
       " 'George Cridland',\n",
       " 'Michael Leech',\n",
       " 'M. Malabon',\n",
       " 'Gavin Korth',\n",
       " 'rowboat, occupant: Louis Beyers',\n",
       " 'J. Jordaan',\n",
       " 'Greg Filtzer',\n",
       " 'Lee Taplin',\n",
       " ...]"
      ]
     },
     "execution_count": 38,
     "metadata": {},
     "output_type": "execute_result"
    }
   ],
   "source": [
    "errors = names.value_counts().index.tolist()\n",
    "\n",
    "We'll remove the 12 more common errors:\n",
    "errors = errors[:12]\n",
    "\n",
    "def delete_errors(name):\n",
    "    '''\n",
    "    Takes a series and sets to NONE al values found in a \n",
    "    list of values \"errors\"\n",
    "    '''\n",
    "    if name in errors:\n",
    "        return None\n",
    "    else:\n",
    "        return name\n",
    "    \n",
    "    \n",
    "df['names_clean'] = names.apply(delete_errors)\n",
    "\n",
    "df['names'] = df['names_clean']\n",
    "\n",
    "df['names_clean'].value_counts()\n",
    "\n"
   ]
  },
  {
   "cell_type": "code",
   "execution_count": 33,
   "metadata": {
    "ExecuteTime": {
     "end_time": "2020-02-06T22:18:59.573975Z",
     "start_time": "2020-02-06T22:18:59.102717Z"
    }
   },
   "outputs": [],
   "source": [
    "df.index = pd.to_datetime(df.index)"
   ]
  },
  {
   "cell_type": "markdown",
   "metadata": {
    "ExecuteTime": {
     "end_time": "2020-02-06T02:08:10.247982Z",
     "start_time": "2020-02-06T02:08:10.245728Z"
    }
   },
   "source": [
    "## Now we can delete all rows containing missing data points, and save the csv:"
   ]
  },
  {
   "cell_type": "code",
   "execution_count": 34,
   "metadata": {
    "ExecuteTime": {
     "end_time": "2020-02-06T22:18:59.658255Z",
     "start_time": "2020-02-06T22:18:59.575730Z"
    }
   },
   "outputs": [],
   "source": [
    "df_clean = df.dropna(axis=0)\n",
    "df_clean.shape\n",
    "df_clean.index = pd.to_datetime(df_clean.index)\n",
    "df.to_csv('Data/clean.csv')"
   ]
  },
  {
   "cell_type": "markdown",
   "metadata": {},
   "source": [
    "# Using the DataFrame"
   ]
  },
  {
   "cell_type": "markdown",
   "metadata": {},
   "source": [
    "Making a quick visualization for shark attack records over years:    "
   ]
  },
  {
   "cell_type": "code",
   "execution_count": 35,
   "metadata": {
    "ExecuteTime": {
     "end_time": "2020-02-06T22:18:59.942020Z",
     "start_time": "2020-02-06T22:18:59.659981Z"
    }
   },
   "outputs": [
    {
     "data": {
      "image/png": "[encoded data removed]",
      "text/plain": [
       "<Figure size 432x288 with 1 Axes>"
      ]
     },
     "metadata": {},
     "output_type": "display_data"
    }
   ],
   "source": [
    "register_matplotlib_converters()\n",
    "\n",
    "sns.set()\n",
    "df_plot = df_clean.resample('Y').count()\n",
    "plt.plot(df_plot)\n",
    "plt.title('Shark Attacks 1970 - 2016')\n",
    "plt.ylabel('Attacks')\n",
    "plt.xticks(rotation=45)\n",
    "plt.xlim('1-1-1970', '1-1-2016')\n",
    "plt.show()"
   ]
  },
  {
   "cell_type": "markdown",
   "metadata": {},
   "source": [
    "## 'in {date}, a {sex} of age{age} named {name}, was {activity} in {location} when got {injuries}, he/she{sex} died/didn't die{fatal}, as pointed out by {source}"
   ]
  }
 ],
 "metadata": {
  "kernelspec": {
   "display_name": "Python 3",
   "language": "python",
   "name": "python3"
  },
  "language_info": {
   "codemirror_mode": {
    "name": "ipython",
    "version": 3
   },
   "file_extension": ".py",
   "mimetype": "text/x-python",
   "name": "python",
   "nbconvert_exporter": "python",
   "pygments_lexer": "ipython3",
   "version": "3.7.4"
  },
  "toc": {
   "base_numbering": 1,
   "nav_menu": {},
   "number_sections": true,
   "sideBar": true,
   "skip_h1_title": false,
   "title_cell": "Table of Contents",
   "title_sidebar": "Contents",
   "toc_cell": false,
   "toc_position": {},
   "toc_section_display": true,
   "toc_window_display": false
  },
  "varInspector": {
   "cols": {
    "lenName": 16,
    "lenType": 16,
    "lenVar": 40
   },
   "kernels_config": {
    "python": {
     "delete_cmd_postfix": "",
     "delete_cmd_prefix": "del ",
     "library": "var_list.py",
     "varRefreshCmd": "print(var_dic_list())"
    },
    "r": {
     "delete_cmd_postfix": ") ",
     "delete_cmd_prefix": "rm(",
     "library": "var_list.r",
     "varRefreshCmd": "cat(var_dic_list()) "
    }
   },
   "types_to_exclude": [
    "module",
    "function",
    "builtin_function_or_method",
    "instance",
    "_Feature"
   ],
   "window_display": false
  }
 },
 "nbformat": 4,
 "nbformat_minor": 2
}
