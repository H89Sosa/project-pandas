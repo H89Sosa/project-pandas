{
 "cells": [
  {
   "cell_type": "markdown",
   "metadata": {},
   "source": [
    "# Setting up workspace"
   ]
  },
  {
   "cell_type": "code",
   "execution_count": 1,
   "metadata": {
    "ExecuteTime": {
     "end_time": "2020-02-06T23:37:04.218820Z",
     "start_time": "2020-02-06T23:37:03.232291Z"
    },
    "code_folding": []
   },
   "outputs": [],
   "source": [
    "# Importing needed libraries\n",
    "import re\n",
    "import pandas as pd\n",
    "import numpy as np\n",
    "import datetime\n",
    "import random\n",
    "import seaborn as sns\n",
    "import matplotlib.pyplot as plt\n",
    "from pandas.plotting import register_matplotlib_converters\n",
    "%matplotlib inline"
   ]
  },
  {
   "cell_type": "code",
   "execution_count": 2,
   "metadata": {
    "ExecuteTime": {
     "end_time": "2020-02-06T23:37:04.332058Z",
     "start_time": "2020-02-06T23:37:04.220855Z"
    },
    "code_folding": []
   },
   "outputs": [],
   "source": [
    "# Creating DataFrame with given CSV\n",
    "\n",
    "file = 'Data/sharks.csv'\n",
    "\n",
    "df = pd.read_csv(file, engine='python') # We have an error reading the CSV, so we set engine to 'python'"
   ]
  },
  {
   "cell_type": "markdown",
   "metadata": {},
   "source": [
    "# Exploring the dataset"
   ]
  },
  {
   "cell_type": "code",
   "execution_count": 3,
   "metadata": {
    "ExecuteTime": {
     "end_time": "2020-02-06T23:37:04.350065Z",
     "start_time": "2020-02-06T23:37:04.334220Z"
    }
   },
   "outputs": [
    {
     "name": "stdout",
     "output_type": "stream",
     "text": [
      "<class 'pandas.core.frame.DataFrame'>\n",
      "RangeIndex: 5992 entries, 0 to 5991\n",
      "Data columns (total 24 columns):\n",
      "Case Number               5992 non-null object\n",
      "Date                      5992 non-null object\n",
      "Year                      5992 non-null int64\n",
      "Type                      5992 non-null object\n",
      "Country                   5949 non-null object\n",
      "Area                      5590 non-null object\n",
      "Location                  5496 non-null object\n",
      "Activity                  5465 non-null object\n",
      "Name                      5792 non-null object\n",
      "Sex                       5425 non-null object\n",
      "Age                       3311 non-null object\n",
      "Injury                    5965 non-null object\n",
      "Fatal (Y/N)               5973 non-null object\n",
      "Time                      2779 non-null object\n",
      "Species                   3058 non-null object\n",
      "Investigator or Source    5977 non-null object\n",
      "pdf                       5992 non-null object\n",
      "href formula              5991 non-null object\n",
      "href                      5989 non-null object\n",
      "Case Number.1             5992 non-null object\n",
      "Case Number.2             5992 non-null object\n",
      "original order            5992 non-null int64\n",
      "Unnamed: 22               1 non-null object\n",
      "Unnamed: 23               2 non-null object\n",
      "dtypes: int64(2), object(22)\n",
      "memory usage: 1.1+ MB\n"
     ]
    }
   ],
   "source": [
    "# Taking a quick visual exploration on the DataFrame\n",
    "\n",
    "df.info()"
   ]
  },
  {
   "cell_type": "code",
   "execution_count": 4,
   "metadata": {
    "ExecuteTime": {
     "end_time": "2020-02-06T23:37:04.357755Z",
     "start_time": "2020-02-06T23:37:04.352301Z"
    }
   },
   "outputs": [
    {
     "data": {
      "text/plain": [
       "Index(['Case Number', 'Date', 'Year', 'Type', 'Country', 'Area', 'Location',\n",
       "       'Activity', 'Name', 'Sex ', 'Age', 'Injury', 'Fatal (Y/N)', 'Time',\n",
       "       'Species ', 'Investigator or Source', 'pdf', 'href formula', 'href',\n",
       "       'Case Number.1', 'Case Number.2', 'original order', 'Unnamed: 22',\n",
       "       'Unnamed: 23'],\n",
       "      dtype='object')"
      ]
     },
     "execution_count": 4,
     "metadata": {},
     "output_type": "execute_result"
    }
   ],
   "source": [
    "df.columns"
   ]
  },
  {
   "cell_type": "code",
   "execution_count": 5,
   "metadata": {
    "ExecuteTime": {
     "end_time": "2020-02-06T23:37:04.382455Z",
     "start_time": "2020-02-06T23:37:04.359501Z"
    }
   },
   "outputs": [
    {
     "name": "stdout",
     "output_type": "stream",
     "text": [
      "Our dataset has 19.15% missing values overall\n"
     ]
    }
   ],
   "source": [
    "# Counting missing values on our DataFrame:\n",
    "\n",
    "def df_total_na(df):\n",
    "    '''\n",
    "    Returns the percentage of total NULL values in the dataset\n",
    "    '''\n",
    "    total_obs = df.count().sum()\n",
    "    total_nas = df.isna().sum().sum()\n",
    "    nas_percentage = total_nas *100 / total_obs\n",
    "    \n",
    "    print(f'Our dataset has {round(nas_percentage, 2)}% missing values overall' )\n",
    "\n",
    "df_total_na(df)\n",
    "\n"
   ]
  },
  {
   "cell_type": "code",
   "execution_count": 6,
   "metadata": {
    "ExecuteTime": {
     "end_time": "2020-02-06T23:37:04.403297Z",
     "start_time": "2020-02-06T23:37:04.383915Z"
    }
   },
   "outputs": [
    {
     "name": "stdout",
     "output_type": "stream",
     "text": [
      "Case Number                0.00\n",
      "Date                       0.00\n",
      "Year                       0.00\n",
      "Type                       0.00\n",
      "Country                    0.72\n",
      "Area                       6.71\n",
      "Location                   8.28\n",
      "Activity                   8.80\n",
      "Name                       3.34\n",
      "Sex                        9.46\n",
      "Age                       44.74\n",
      "Injury                     0.45\n",
      "Fatal (Y/N)                0.32\n",
      "Time                      53.62\n",
      "Species                   48.97\n",
      "Investigator or Source     0.25\n",
      "pdf                        0.00\n",
      "href formula               0.02\n",
      "href                       0.05\n",
      "Case Number.1              0.00\n",
      "Case Number.2              0.00\n",
      "original order             0.00\n",
      "Unnamed: 22               99.98\n",
      "Unnamed: 23               99.97\n",
      "dtype: float64\n"
     ]
    }
   ],
   "source": [
    "# Also checking what columns have more count of null values\n",
    "\n",
    "def column_nulls_percentage(df):\n",
    "    '''\n",
    "    Returns a series indicating percentage of NULLS per column\n",
    "    '''\n",
    "    # .mean() gets the NULL values and divides it by the total length of the column\n",
    "    \n",
    "    return df.isna().mean().round(4) * 100\n",
    "\n",
    "\n",
    "print(column_nulls_percentage(df))"
   ]
  },
  {
   "cell_type": "code",
   "execution_count": 7,
   "metadata": {
    "ExecuteTime": {
     "end_time": "2020-02-06T23:37:04.408781Z",
     "start_time": "2020-02-06T23:37:04.404957Z"
    },
    "code_folding": []
   },
   "outputs": [
    {
     "data": {
      "text/plain": [
       "Index(['Case Number', 'Date', 'Year', 'Type', 'Country', 'Area', 'Location',\n",
       "       'Activity', 'Name', 'Sex ', 'Age', 'Injury', 'Fatal (Y/N)', 'Time',\n",
       "       'Species ', 'Investigator or Source', 'pdf', 'href formula', 'href',\n",
       "       'Case Number.1', 'Case Number.2', 'original order', 'Unnamed: 22',\n",
       "       'Unnamed: 23'],\n",
       "      dtype='object')"
      ]
     },
     "execution_count": 7,
     "metadata": {},
     "output_type": "execute_result"
    }
   ],
   "source": [
    "# Checking the column names, and analyzing if they're useful:\n",
    "df.columns"
   ]
  },
  {
   "cell_type": "code",
   "execution_count": 8,
   "metadata": {
    "ExecuteTime": {
     "end_time": "2020-02-06T23:37:04.421437Z",
     "start_time": "2020-02-06T23:37:04.411232Z"
    }
   },
   "outputs": [
    {
     "data": {
      "text/html": [
       "<div>\n",
       "<style scoped>\n",
       "    .dataframe tbody tr th:only-of-type {\n",
       "        vertical-align: middle;\n",
       "    }\n",
       "\n",
       "    .dataframe tbody tr th {\n",
       "        vertical-align: top;\n",
       "    }\n",
       "\n",
       "    .dataframe thead th {\n",
       "        text-align: right;\n",
       "    }\n",
       "</style>\n",
       "<table border=\"1\" class=\"dataframe\">\n",
       "  <thead>\n",
       "    <tr style=\"text-align: right;\">\n",
       "      <th></th>\n",
       "      <th>Date</th>\n",
       "      <th>Year</th>\n",
       "    </tr>\n",
       "  </thead>\n",
       "  <tbody>\n",
       "    <tr>\n",
       "      <td>0</td>\n",
       "      <td>18-Sep-16</td>\n",
       "      <td>2016</td>\n",
       "    </tr>\n",
       "    <tr>\n",
       "      <td>1</td>\n",
       "      <td>18-Sep-16</td>\n",
       "      <td>2016</td>\n",
       "    </tr>\n",
       "    <tr>\n",
       "      <td>2</td>\n",
       "      <td>18-Sep-16</td>\n",
       "      <td>2016</td>\n",
       "    </tr>\n",
       "    <tr>\n",
       "      <td>3</td>\n",
       "      <td>17-Sep-16</td>\n",
       "      <td>2016</td>\n",
       "    </tr>\n",
       "    <tr>\n",
       "      <td>4</td>\n",
       "      <td>16-Sep-16</td>\n",
       "      <td>2016</td>\n",
       "    </tr>\n",
       "  </tbody>\n",
       "</table>\n",
       "</div>"
      ],
      "text/plain": [
       "        Date  Year\n",
       "0  18-Sep-16  2016\n",
       "1  18-Sep-16  2016\n",
       "2  18-Sep-16  2016\n",
       "3  17-Sep-16  2016\n",
       "4  16-Sep-16  2016"
      ]
     },
     "execution_count": 8,
     "metadata": {},
     "output_type": "execute_result"
    }
   ],
   "source": [
    "# Date and Year seem to have duplicated information, let's check it out:\n",
    "\n",
    "df[['Date', 'Year']].head()\n",
    "\n",
    "# Year contains duplicated data"
   ]
  },
  {
   "cell_type": "markdown",
   "metadata": {},
   "source": [
    "## Removing unwanted columns"
   ]
  },
  {
   "cell_type": "code",
   "execution_count": 9,
   "metadata": {
    "ExecuteTime": {
     "end_time": "2020-02-06T23:37:04.431472Z",
     "start_time": "2020-02-06T23:37:04.423682Z"
    }
   },
   "outputs": [],
   "source": [
    "# We decided, due to the number of NA values \n",
    "# and the content of the observations, that we'll eliminate the following columns:\n",
    "# 'Case Number', 'Case Number.1', 'Case Number.2' provides IDs not useful for analysis, and contains too many NA's\n",
    "# 'pdf' contains unuseful name archives\n",
    "# 'Year' contains duplicated data\n",
    "# 'Type' contains unclear values for our study\n",
    "# 'href formula', 'href' contains links leading to non-existing web pages\n",
    "\n",
    "\n",
    "drop = ['Case Number', 'Type', 'Year', 'Year', 'pdf', 'href formula', 'href', 'Case Number.1', \n",
    "        'Case Number.2', 'original order', 'Unnamed: 22', 'Unnamed: 23']\n",
    "\n",
    "df.drop(drop, axis=1, inplace=True)"
   ]
  },
  {
   "cell_type": "code",
   "execution_count": 10,
   "metadata": {
    "ExecuteTime": {
     "end_time": "2020-02-06T23:37:04.445433Z",
     "start_time": "2020-02-06T23:37:04.433034Z"
    }
   },
   "outputs": [
    {
     "data": {
      "text/plain": [
       "Index(['date', 'country', 'area', 'location', 'activity', 'name', 'sex', 'age',\n",
       "       'injury', 'fatal', 'time', 'species ', 'source'],\n",
       "      dtype='object')"
      ]
     },
     "execution_count": 10,
     "metadata": {},
     "output_type": "execute_result"
    }
   ],
   "source": [
    "# We'll also rename some columns for a more clear/practical analysis:\n",
    "\n",
    "df = df.rename({'Sex ': 'sex', 'Fatal (Y/N)': 'fatal', 'Investigator or Source': 'source' }, axis=1)\n",
    "\n",
    "# Lowering the columns so it's easier to manipulate\n",
    "col_names = [col.lower() for col in df.columns]\n",
    "df.columns = col_names\n",
    "\n",
    "df.columns\n"
   ]
  },
  {
   "cell_type": "markdown",
   "metadata": {},
   "source": [
    "# Manipulating the dataset"
   ]
  },
  {
   "cell_type": "code",
   "execution_count": 11,
   "metadata": {
    "ExecuteTime": {
     "end_time": "2020-02-06T23:37:04.451944Z",
     "start_time": "2020-02-06T23:37:04.447434Z"
    }
   },
   "outputs": [
    {
     "data": {
      "text/plain": [
       "date        object\n",
       "country     object\n",
       "area        object\n",
       "location    object\n",
       "activity    object\n",
       "name        object\n",
       "sex         object\n",
       "age         object\n",
       "injury      object\n",
       "fatal       object\n",
       "time        object\n",
       "species     object\n",
       "source      object\n",
       "dtype: object"
      ]
     },
     "execution_count": 11,
     "metadata": {},
     "output_type": "execute_result"
    }
   ],
   "source": [
    "# Checking the type of the observations to see if they're useful or in need of treatment.\n",
    "\n",
    "df.dtypes\n",
    "\n",
    "# Here we can see that the majority of data collected it's not categorized properly."
   ]
  },
  {
   "cell_type": "markdown",
   "metadata": {},
   "source": [
    "## Setting up a DateTime Index"
   ]
  },
  {
   "cell_type": "code",
   "execution_count": 12,
   "metadata": {
    "ExecuteTime": {
     "end_time": "2020-02-06T23:37:04.458851Z",
     "start_time": "2020-02-06T23:37:04.453530Z"
    },
    "code_folding": []
   },
   "outputs": [
    {
     "data": {
      "text/plain": [
       "0    18-Sep-16\n",
       "1    18-Sep-16\n",
       "2    18-Sep-16\n",
       "3    17-Sep-16\n",
       "4    16-Sep-16\n",
       "5    15-Sep-16\n",
       "6    11-Sep-16\n",
       "7    07-Sep-16\n",
       "8    06-Sep-16\n",
       "9    05-Sep-16\n",
       "Name: date, dtype: object"
      ]
     },
     "execution_count": 12,
     "metadata": {},
     "output_type": "execute_result"
    }
   ],
   "source": [
    "# We can set the index of the DataFrame in order to have a proper way to study it, using the 'date' column:\n",
    "\n",
    "df['date'].head(10)\n"
   ]
  },
  {
   "cell_type": "markdown",
   "metadata": {},
   "source": [
    "We'll try to set all the column values to datetime objects, and set the non-readable values to NaT. "
   ]
  },
  {
   "cell_type": "code",
   "execution_count": 13,
   "metadata": {
    "ExecuteTime": {
     "end_time": "2020-02-06T23:37:04.844651Z",
     "start_time": "2020-02-06T23:37:04.460792Z"
    }
   },
   "outputs": [
    {
     "data": {
      "text/plain": [
       "5135"
      ]
     },
     "execution_count": 13,
     "metadata": {},
     "output_type": "execute_result"
    }
   ],
   "source": [
    "df_time = df['date']\n",
    "\n",
    "df_time = pd.to_datetime(df_time, errors='coerce')\n",
    "\n",
    "df_time.count()"
   ]
  },
  {
   "cell_type": "markdown",
   "metadata": {},
   "source": [
    "We see we have 5135 values out of 5991, we consider it viable for our analysis.\n",
    "Setting this series as index for our dataframe."
   ]
  },
  {
   "cell_type": "code",
   "execution_count": 14,
   "metadata": {
    "ExecuteTime": {
     "end_time": "2020-02-06T23:37:04.855002Z",
     "start_time": "2020-02-06T23:37:04.846352Z"
    }
   },
   "outputs": [],
   "source": [
    "df = df.set_index(df_time)\n",
    "df.head(1)\n",
    "\n",
    "# We can also drop the 'date' column since it's in our index. \n",
    "# We'll also drop the rows in which we don't have this index\n",
    "\n",
    "df.drop('date', axis=1, inplace=True)\n"
   ]
  },
  {
   "cell_type": "code",
   "execution_count": 15,
   "metadata": {
    "ExecuteTime": {
     "end_time": "2020-02-06T23:37:04.860533Z",
     "start_time": "2020-02-06T23:37:04.856807Z"
    }
   },
   "outputs": [
    {
     "data": {
      "text/plain": [
       "pandas.core.indexes.datetimes.DatetimeIndex"
      ]
     },
     "execution_count": 15,
     "metadata": {},
     "output_type": "execute_result"
    }
   ],
   "source": [
    "type(df.index)"
   ]
  },
  {
   "cell_type": "markdown",
   "metadata": {},
   "source": [
    "Testing our index's capabilities. Let's count all cases from 1980 to 1981"
   ]
  },
  {
   "cell_type": "code",
   "execution_count": 16,
   "metadata": {
    "ExecuteTime": {
     "end_time": "2020-02-06T23:37:04.867703Z",
     "start_time": "2020-02-06T23:37:04.861929Z"
    }
   },
   "outputs": [
    {
     "name": "stdout",
     "output_type": "stream",
     "text": [
      "(31, 12)\n"
     ]
    }
   ],
   "source": [
    "print(df['1 Jan 1980':'1 Jan 1981'].shape)"
   ]
  },
  {
   "cell_type": "markdown",
   "metadata": {},
   "source": [
    "Also finding exact dates:"
   ]
  },
  {
   "cell_type": "code",
   "execution_count": 17,
   "metadata": {
    "ExecuteTime": {
     "end_time": "2020-02-06T23:37:04.881883Z",
     "start_time": "2020-02-06T23:37:04.869164Z"
    }
   },
   "outputs": [
    {
     "data": {
      "text/html": [
       "<div>\n",
       "<style scoped>\n",
       "    .dataframe tbody tr th:only-of-type {\n",
       "        vertical-align: middle;\n",
       "    }\n",
       "\n",
       "    .dataframe tbody tr th {\n",
       "        vertical-align: top;\n",
       "    }\n",
       "\n",
       "    .dataframe thead th {\n",
       "        text-align: right;\n",
       "    }\n",
       "</style>\n",
       "<table border=\"1\" class=\"dataframe\">\n",
       "  <thead>\n",
       "    <tr style=\"text-align: right;\">\n",
       "      <th></th>\n",
       "      <th>country</th>\n",
       "      <th>area</th>\n",
       "      <th>location</th>\n",
       "      <th>activity</th>\n",
       "      <th>name</th>\n",
       "      <th>sex</th>\n",
       "      <th>age</th>\n",
       "      <th>injury</th>\n",
       "      <th>fatal</th>\n",
       "      <th>time</th>\n",
       "      <th>species</th>\n",
       "      <th>source</th>\n",
       "    </tr>\n",
       "    <tr>\n",
       "      <th>date</th>\n",
       "      <th></th>\n",
       "      <th></th>\n",
       "      <th></th>\n",
       "      <th></th>\n",
       "      <th></th>\n",
       "      <th></th>\n",
       "      <th></th>\n",
       "      <th></th>\n",
       "      <th></th>\n",
       "      <th></th>\n",
       "      <th></th>\n",
       "      <th></th>\n",
       "    </tr>\n",
       "  </thead>\n",
       "  <tbody>\n",
       "    <tr>\n",
       "      <td>2006-01-01</td>\n",
       "      <td>SOUTH AFRICA</td>\n",
       "      <td>Western Cape Province</td>\n",
       "      <td>Soetwater</td>\n",
       "      <td>Diving for crayfish</td>\n",
       "      <td>John Williams</td>\n",
       "      <td>M</td>\n",
       "      <td>49</td>\n",
       "      <td>Lacerations to little finger</td>\n",
       "      <td>N</td>\n",
       "      <td>NaN</td>\n",
       "      <td>Said to involve a 1.5 m shark</td>\n",
       "      <td>J.P. Botha, GSAF</td>\n",
       "    </tr>\n",
       "  </tbody>\n",
       "</table>\n",
       "</div>"
      ],
      "text/plain": [
       "                 country                   area   location  \\\n",
       "date                                                         \n",
       "2006-01-01  SOUTH AFRICA  Western Cape Province  Soetwater   \n",
       "\n",
       "                       activity           name sex age  \\\n",
       "date                                                     \n",
       "2006-01-01  Diving for crayfish  John Williams   M  49   \n",
       "\n",
       "                                  injury fatal time  \\\n",
       "date                                                  \n",
       "2006-01-01  Lacerations to little finger     N  NaN   \n",
       "\n",
       "                                 species             source  \n",
       "date                                                         \n",
       "2006-01-01  Said to involve a 1.5 m shark  J.P. Botha, GSAF  "
      ]
     },
     "execution_count": 17,
     "metadata": {},
     "output_type": "execute_result"
    }
   ],
   "source": [
    "df['1 Jan 2006'] "
   ]
  },
  {
   "cell_type": "markdown",
   "metadata": {},
   "source": [
    "Formatting our index so it's clearer"
   ]
  },
  {
   "cell_type": "code",
   "execution_count": 18,
   "metadata": {
    "ExecuteTime": {
     "end_time": "2020-02-06T23:37:04.889549Z",
     "start_time": "2020-02-06T23:37:04.883491Z"
    }
   },
   "outputs": [
    {
     "name": "stdout",
     "output_type": "stream",
     "text": [
      "Our dataframe has 0 missing index data\n"
     ]
    }
   ],
   "source": [
    "df = df.loc[df.index.notnull()]\n",
    "\n",
    "print(f'Our dataframe has {df.index.isnull().sum()} missing index data')"
   ]
  },
  {
   "cell_type": "markdown",
   "metadata": {},
   "source": [
    "## Location manipulation"
   ]
  },
  {
   "cell_type": "markdown",
   "metadata": {},
   "source": [
    "On the format we've given, we can see 3 rows which can be converted to just one by joining them and manipulating its content"
   ]
  },
  {
   "cell_type": "code",
   "execution_count": 19,
   "metadata": {
    "ExecuteTime": {
     "end_time": "2020-02-06T23:37:04.901771Z",
     "start_time": "2020-02-06T23:37:04.891238Z"
    }
   },
   "outputs": [
    {
     "data": {
      "text/html": [
       "<div>\n",
       "<style scoped>\n",
       "    .dataframe tbody tr th:only-of-type {\n",
       "        vertical-align: middle;\n",
       "    }\n",
       "\n",
       "    .dataframe tbody tr th {\n",
       "        vertical-align: top;\n",
       "    }\n",
       "\n",
       "    .dataframe thead th {\n",
       "        text-align: right;\n",
       "    }\n",
       "</style>\n",
       "<table border=\"1\" class=\"dataframe\">\n",
       "  <thead>\n",
       "    <tr style=\"text-align: right;\">\n",
       "      <th></th>\n",
       "      <th>country</th>\n",
       "      <th>area</th>\n",
       "      <th>location</th>\n",
       "    </tr>\n",
       "    <tr>\n",
       "      <th>date</th>\n",
       "      <th></th>\n",
       "      <th></th>\n",
       "      <th></th>\n",
       "    </tr>\n",
       "  </thead>\n",
       "  <tbody>\n",
       "    <tr>\n",
       "      <td>2016-09-18</td>\n",
       "      <td>USA</td>\n",
       "      <td>Florida</td>\n",
       "      <td>New Smyrna Beach, Volusia County</td>\n",
       "    </tr>\n",
       "    <tr>\n",
       "      <td>2016-09-18</td>\n",
       "      <td>USA</td>\n",
       "      <td>Florida</td>\n",
       "      <td>New Smyrna Beach, Volusia County</td>\n",
       "    </tr>\n",
       "    <tr>\n",
       "      <td>2016-09-18</td>\n",
       "      <td>USA</td>\n",
       "      <td>Florida</td>\n",
       "      <td>New Smyrna Beach, Volusia County</td>\n",
       "    </tr>\n",
       "  </tbody>\n",
       "</table>\n",
       "</div>"
      ],
      "text/plain": [
       "           country     area                          location\n",
       "date                                                         \n",
       "2016-09-18     USA  Florida  New Smyrna Beach, Volusia County\n",
       "2016-09-18     USA  Florida  New Smyrna Beach, Volusia County\n",
       "2016-09-18     USA  Florida  New Smyrna Beach, Volusia County"
      ]
     },
     "execution_count": 19,
     "metadata": {},
     "output_type": "execute_result"
    }
   ],
   "source": [
    "location_cols = ['country', 'area', 'location']\n",
    "\n",
    "df[location_cols].head(3)\n"
   ]
  },
  {
   "cell_type": "markdown",
   "metadata": {},
   "source": [
    "We'll make sure that all our values are strings:"
   ]
  },
  {
   "cell_type": "code",
   "execution_count": 20,
   "metadata": {
    "ExecuteTime": {
     "end_time": "2020-02-06T23:37:04.913419Z",
     "start_time": "2020-02-06T23:37:04.903555Z"
    }
   },
   "outputs": [],
   "source": [
    "df[location_cols] = df[location_cols].astype(str)"
   ]
  },
  {
   "cell_type": "code",
   "execution_count": 21,
   "metadata": {
    "ExecuteTime": {
     "end_time": "2020-02-06T23:37:04.956159Z",
     "start_time": "2020-02-06T23:37:04.915089Z"
    },
    "scrolled": true
   },
   "outputs": [
    {
     "name": "stdout",
     "output_type": "stream",
     "text": [
      "Our list has 3 columns and 5135 rows\n"
     ]
    },
    {
     "data": {
      "text/html": [
       "<div>\n",
       "<style scoped>\n",
       "    .dataframe tbody tr th:only-of-type {\n",
       "        vertical-align: middle;\n",
       "    }\n",
       "\n",
       "    .dataframe tbody tr th {\n",
       "        vertical-align: top;\n",
       "    }\n",
       "\n",
       "    .dataframe thead th {\n",
       "        text-align: right;\n",
       "    }\n",
       "</style>\n",
       "<table border=\"1\" class=\"dataframe\">\n",
       "  <thead>\n",
       "    <tr style=\"text-align: right;\">\n",
       "      <th></th>\n",
       "      <th>country</th>\n",
       "      <th>area</th>\n",
       "      <th>location</th>\n",
       "      <th>activity</th>\n",
       "      <th>name</th>\n",
       "      <th>sex</th>\n",
       "      <th>age</th>\n",
       "      <th>injury</th>\n",
       "      <th>fatal</th>\n",
       "      <th>time</th>\n",
       "      <th>species</th>\n",
       "      <th>source</th>\n",
       "      <th>locations</th>\n",
       "    </tr>\n",
       "    <tr>\n",
       "      <th>date</th>\n",
       "      <th></th>\n",
       "      <th></th>\n",
       "      <th></th>\n",
       "      <th></th>\n",
       "      <th></th>\n",
       "      <th></th>\n",
       "      <th></th>\n",
       "      <th></th>\n",
       "      <th></th>\n",
       "      <th></th>\n",
       "      <th></th>\n",
       "      <th></th>\n",
       "      <th></th>\n",
       "    </tr>\n",
       "  </thead>\n",
       "  <tbody>\n",
       "    <tr>\n",
       "      <td>2016-09-18</td>\n",
       "      <td>USA</td>\n",
       "      <td>Florida</td>\n",
       "      <td>New Smyrna Beach, Volusia County</td>\n",
       "      <td>Surfing</td>\n",
       "      <td>male</td>\n",
       "      <td>M</td>\n",
       "      <td>16</td>\n",
       "      <td>Minor injury to thigh</td>\n",
       "      <td>N</td>\n",
       "      <td>13h00</td>\n",
       "      <td>NaN</td>\n",
       "      <td>Orlando Sentinel, 9/19/2016</td>\n",
       "      <td>New Smyrna Beach, Volusia County, Florida, Usa</td>\n",
       "    </tr>\n",
       "    <tr>\n",
       "      <td>2016-09-18</td>\n",
       "      <td>USA</td>\n",
       "      <td>Florida</td>\n",
       "      <td>New Smyrna Beach, Volusia County</td>\n",
       "      <td>Surfing</td>\n",
       "      <td>Chucky Luciano</td>\n",
       "      <td>M</td>\n",
       "      <td>36</td>\n",
       "      <td>Lacerations to hands</td>\n",
       "      <td>N</td>\n",
       "      <td>11h00</td>\n",
       "      <td>NaN</td>\n",
       "      <td>Orlando Sentinel, 9/19/2016</td>\n",
       "      <td>New Smyrna Beach, Volusia County, Florida, Usa</td>\n",
       "    </tr>\n",
       "    <tr>\n",
       "      <td>2016-09-18</td>\n",
       "      <td>USA</td>\n",
       "      <td>Florida</td>\n",
       "      <td>New Smyrna Beach, Volusia County</td>\n",
       "      <td>Surfing</td>\n",
       "      <td>male</td>\n",
       "      <td>M</td>\n",
       "      <td>43</td>\n",
       "      <td>Lacerations to lower leg</td>\n",
       "      <td>N</td>\n",
       "      <td>10h43</td>\n",
       "      <td>NaN</td>\n",
       "      <td>Orlando Sentinel, 9/19/2016</td>\n",
       "      <td>New Smyrna Beach, Volusia County, Florida, Usa</td>\n",
       "    </tr>\n",
       "  </tbody>\n",
       "</table>\n",
       "</div>"
      ],
      "text/plain": [
       "           country     area                          location activity  \\\n",
       "date                                                                     \n",
       "2016-09-18     USA  Florida  New Smyrna Beach, Volusia County  Surfing   \n",
       "2016-09-18     USA  Florida  New Smyrna Beach, Volusia County  Surfing   \n",
       "2016-09-18     USA  Florida  New Smyrna Beach, Volusia County  Surfing   \n",
       "\n",
       "                      name sex age                    injury fatal   time  \\\n",
       "date                                                                        \n",
       "2016-09-18            male   M  16     Minor injury to thigh     N  13h00   \n",
       "2016-09-18  Chucky Luciano   M  36      Lacerations to hands     N  11h00   \n",
       "2016-09-18            male   M  43  Lacerations to lower leg     N  10h43   \n",
       "\n",
       "           species                        source  \\\n",
       "date                                               \n",
       "2016-09-18      NaN  Orlando Sentinel, 9/19/2016   \n",
       "2016-09-18      NaN  Orlando Sentinel, 9/19/2016   \n",
       "2016-09-18      NaN  Orlando Sentinel, 9/19/2016   \n",
       "\n",
       "                                                 locations  \n",
       "date                                                        \n",
       "2016-09-18  New Smyrna Beach, Volusia County, Florida, Usa  \n",
       "2016-09-18  New Smyrna Beach, Volusia County, Florida, Usa  \n",
       "2016-09-18  New Smyrna Beach, Volusia County, Florida, Usa  "
      ]
     },
     "execution_count": 21,
     "metadata": {},
     "output_type": "execute_result"
    }
   ],
   "source": [
    "# These values needs to be capitalized and joined. We'll make a function for it:\n",
    "\n",
    "def capital(series):\n",
    "    return str(series).title()\n",
    "\n",
    "lst = [[capital(value) for value in df[string]] for string in location_cols]\n",
    "lst_array = np.array(lst)\n",
    "print(f'Our list has {lst_array.shape[0]} columns and {lst_array.shape[1]} rows')\n",
    "\n",
    "country, area, loc = lst[0], lst[1], lst[2]\n",
    "\n",
    "locations = [x + ', ' + y  + ', ' + z for x, y, z in zip(loc, area, country)]\n",
    "\n",
    "df['locations'] = locations\n",
    "\n",
    "df['locations']\n",
    "\n",
    "df.head(3)\n",
    "\n",
    "# This 'locations' column will be used to create Coordinates for geolocation."
   ]
  },
  {
   "cell_type": "markdown",
   "metadata": {},
   "source": [
    "Now we can remove three rows of our dataframe: 'area' and 'location'. We'll keep Country for visualization pruposes"
   ]
  },
  {
   "cell_type": "code",
   "execution_count": 22,
   "metadata": {
    "ExecuteTime": {
     "end_time": "2020-02-06T23:37:04.982721Z",
     "start_time": "2020-02-06T23:37:04.957673Z"
    }
   },
   "outputs": [
    {
     "data": {
      "text/html": [
       "<div>\n",
       "<style scoped>\n",
       "    .dataframe tbody tr th:only-of-type {\n",
       "        vertical-align: middle;\n",
       "    }\n",
       "\n",
       "    .dataframe tbody tr th {\n",
       "        vertical-align: top;\n",
       "    }\n",
       "\n",
       "    .dataframe thead th {\n",
       "        text-align: right;\n",
       "    }\n",
       "</style>\n",
       "<table border=\"1\" class=\"dataframe\">\n",
       "  <thead>\n",
       "    <tr style=\"text-align: right;\">\n",
       "      <th></th>\n",
       "      <th>country</th>\n",
       "      <th>activity</th>\n",
       "      <th>name</th>\n",
       "      <th>sex</th>\n",
       "      <th>age</th>\n",
       "      <th>injury</th>\n",
       "      <th>fatal</th>\n",
       "      <th>time</th>\n",
       "      <th>species</th>\n",
       "      <th>source</th>\n",
       "      <th>locations</th>\n",
       "    </tr>\n",
       "    <tr>\n",
       "      <th>date</th>\n",
       "      <th></th>\n",
       "      <th></th>\n",
       "      <th></th>\n",
       "      <th></th>\n",
       "      <th></th>\n",
       "      <th></th>\n",
       "      <th></th>\n",
       "      <th></th>\n",
       "      <th></th>\n",
       "      <th></th>\n",
       "      <th></th>\n",
       "    </tr>\n",
       "  </thead>\n",
       "  <tbody>\n",
       "    <tr>\n",
       "      <td>2016-09-18</td>\n",
       "      <td>USA</td>\n",
       "      <td>Surfing</td>\n",
       "      <td>male</td>\n",
       "      <td>M</td>\n",
       "      <td>16</td>\n",
       "      <td>Minor injury to thigh</td>\n",
       "      <td>N</td>\n",
       "      <td>13h00</td>\n",
       "      <td>NaN</td>\n",
       "      <td>Orlando Sentinel, 9/19/2016</td>\n",
       "      <td>New Smyrna Beach, Volusia County, Florida, Usa</td>\n",
       "    </tr>\n",
       "    <tr>\n",
       "      <td>2016-09-18</td>\n",
       "      <td>USA</td>\n",
       "      <td>Surfing</td>\n",
       "      <td>Chucky Luciano</td>\n",
       "      <td>M</td>\n",
       "      <td>36</td>\n",
       "      <td>Lacerations to hands</td>\n",
       "      <td>N</td>\n",
       "      <td>11h00</td>\n",
       "      <td>NaN</td>\n",
       "      <td>Orlando Sentinel, 9/19/2016</td>\n",
       "      <td>New Smyrna Beach, Volusia County, Florida, Usa</td>\n",
       "    </tr>\n",
       "    <tr>\n",
       "      <td>2016-09-18</td>\n",
       "      <td>USA</td>\n",
       "      <td>Surfing</td>\n",
       "      <td>male</td>\n",
       "      <td>M</td>\n",
       "      <td>43</td>\n",
       "      <td>Lacerations to lower leg</td>\n",
       "      <td>N</td>\n",
       "      <td>10h43</td>\n",
       "      <td>NaN</td>\n",
       "      <td>Orlando Sentinel, 9/19/2016</td>\n",
       "      <td>New Smyrna Beach, Volusia County, Florida, Usa</td>\n",
       "    </tr>\n",
       "  </tbody>\n",
       "</table>\n",
       "</div>"
      ],
      "text/plain": [
       "           country activity            name sex age                    injury  \\\n",
       "date                                                                            \n",
       "2016-09-18     USA  Surfing            male   M  16     Minor injury to thigh   \n",
       "2016-09-18     USA  Surfing  Chucky Luciano   M  36      Lacerations to hands   \n",
       "2016-09-18     USA  Surfing            male   M  43  Lacerations to lower leg   \n",
       "\n",
       "           fatal   time species                        source  \\\n",
       "date                                                            \n",
       "2016-09-18     N  13h00      NaN  Orlando Sentinel, 9/19/2016   \n",
       "2016-09-18     N  11h00      NaN  Orlando Sentinel, 9/19/2016   \n",
       "2016-09-18     N  10h43      NaN  Orlando Sentinel, 9/19/2016   \n",
       "\n",
       "                                                 locations  \n",
       "date                                                        \n",
       "2016-09-18  New Smyrna Beach, Volusia County, Florida, Usa  \n",
       "2016-09-18  New Smyrna Beach, Volusia County, Florida, Usa  \n",
       "2016-09-18  New Smyrna Beach, Volusia County, Florida, Usa  "
      ]
     },
     "execution_count": 22,
     "metadata": {},
     "output_type": "execute_result"
    }
   ],
   "source": [
    "df.drop(df[['area', 'location']], axis=1, inplace=True)\n",
    "df.rename({'locations': 'location'}, axis=1)\n",
    "df.head(3)"
   ]
  },
  {
   "cell_type": "markdown",
   "metadata": {},
   "source": [
    "## Age column"
   ]
  },
  {
   "cell_type": "code",
   "execution_count": 23,
   "metadata": {
    "ExecuteTime": {
     "end_time": "2020-02-06T23:37:04.998907Z",
     "start_time": "2020-02-06T23:37:04.987055Z"
    }
   },
   "outputs": [
    {
     "data": {
      "text/plain": [
       "True     3132\n",
       "NaN      1976\n",
       "False      27\n",
       "Name: age, dtype: int64"
      ]
     },
     "execution_count": 23,
     "metadata": {},
     "output_type": "execute_result"
    }
   ],
   "source": [
    "# Let's see how much of the values in 'age' have valid data points:\n",
    "\n",
    "regex = '\\d{1,2}'\n",
    "\n",
    "valid_ages = df['age'].str.contains(regex)\n",
    "\n",
    "valid_ages.value_counts(dropna=False)\n",
    "\n",
    "# We see that we have a total 3280 '1 or 2 digit' type observations. "
   ]
  },
  {
   "cell_type": "code",
   "execution_count": 24,
   "metadata": {
    "ExecuteTime": {
     "end_time": "2020-02-06T23:37:05.008172Z",
     "start_time": "2020-02-06T23:37:05.001991Z"
    }
   },
   "outputs": [
    {
     "name": "stdout",
     "output_type": "stream",
     "text": [
      "17          144\n",
      "18          140\n",
      "19          134\n",
      "20          129\n",
      "15          128\n",
      "           ... \n",
      "mid-30s       1\n",
      "\"young\"       1\n",
      "16 to 18      1\n",
      "73            1\n",
      "6�            1\n",
      "Name: age, Length: 142, dtype: int64\n"
     ]
    }
   ],
   "source": [
    "print(df['age'].value_counts())\n"
   ]
  },
  {
   "cell_type": "code",
   "execution_count": 25,
   "metadata": {
    "ExecuteTime": {
     "end_time": "2020-02-06T23:37:05.033522Z",
     "start_time": "2020-02-06T23:37:05.009802Z"
    },
    "code_folding": []
   },
   "outputs": [
    {
     "data": {
      "text/html": [
       "<div>\n",
       "<style scoped>\n",
       "    .dataframe tbody tr th:only-of-type {\n",
       "        vertical-align: middle;\n",
       "    }\n",
       "\n",
       "    .dataframe tbody tr th {\n",
       "        vertical-align: top;\n",
       "    }\n",
       "\n",
       "    .dataframe thead th {\n",
       "        text-align: right;\n",
       "    }\n",
       "</style>\n",
       "<table border=\"1\" class=\"dataframe\">\n",
       "  <thead>\n",
       "    <tr style=\"text-align: right;\">\n",
       "      <th></th>\n",
       "      <th>country</th>\n",
       "      <th>activity</th>\n",
       "      <th>name</th>\n",
       "      <th>sex</th>\n",
       "      <th>age</th>\n",
       "      <th>injury</th>\n",
       "      <th>fatal</th>\n",
       "      <th>time</th>\n",
       "      <th>species</th>\n",
       "      <th>source</th>\n",
       "      <th>locations</th>\n",
       "    </tr>\n",
       "    <tr>\n",
       "      <th>date</th>\n",
       "      <th></th>\n",
       "      <th></th>\n",
       "      <th></th>\n",
       "      <th></th>\n",
       "      <th></th>\n",
       "      <th></th>\n",
       "      <th></th>\n",
       "      <th></th>\n",
       "      <th></th>\n",
       "      <th></th>\n",
       "      <th></th>\n",
       "    </tr>\n",
       "  </thead>\n",
       "  <tbody>\n",
       "    <tr>\n",
       "      <td>2016-09-18</td>\n",
       "      <td>USA</td>\n",
       "      <td>Surfing</td>\n",
       "      <td>male</td>\n",
       "      <td>M</td>\n",
       "      <td>16.0</td>\n",
       "      <td>Minor injury to thigh</td>\n",
       "      <td>N</td>\n",
       "      <td>13h00</td>\n",
       "      <td>NaN</td>\n",
       "      <td>Orlando Sentinel, 9/19/2016</td>\n",
       "      <td>New Smyrna Beach, Volusia County, Florida, Usa</td>\n",
       "    </tr>\n",
       "    <tr>\n",
       "      <td>2016-09-18</td>\n",
       "      <td>USA</td>\n",
       "      <td>Surfing</td>\n",
       "      <td>Chucky Luciano</td>\n",
       "      <td>M</td>\n",
       "      <td>36.0</td>\n",
       "      <td>Lacerations to hands</td>\n",
       "      <td>N</td>\n",
       "      <td>11h00</td>\n",
       "      <td>NaN</td>\n",
       "      <td>Orlando Sentinel, 9/19/2016</td>\n",
       "      <td>New Smyrna Beach, Volusia County, Florida, Usa</td>\n",
       "    </tr>\n",
       "    <tr>\n",
       "      <td>2016-09-18</td>\n",
       "      <td>USA</td>\n",
       "      <td>Surfing</td>\n",
       "      <td>male</td>\n",
       "      <td>M</td>\n",
       "      <td>43.0</td>\n",
       "      <td>Lacerations to lower leg</td>\n",
       "      <td>N</td>\n",
       "      <td>10h43</td>\n",
       "      <td>NaN</td>\n",
       "      <td>Orlando Sentinel, 9/19/2016</td>\n",
       "      <td>New Smyrna Beach, Volusia County, Florida, Usa</td>\n",
       "    </tr>\n",
       "  </tbody>\n",
       "</table>\n",
       "</div>"
      ],
      "text/plain": [
       "           country activity            name sex   age  \\\n",
       "date                                                    \n",
       "2016-09-18     USA  Surfing            male   M  16.0   \n",
       "2016-09-18     USA  Surfing  Chucky Luciano   M  36.0   \n",
       "2016-09-18     USA  Surfing            male   M  43.0   \n",
       "\n",
       "                              injury fatal   time species   \\\n",
       "date                                                         \n",
       "2016-09-18     Minor injury to thigh     N  13h00      NaN   \n",
       "2016-09-18      Lacerations to hands     N  11h00      NaN   \n",
       "2016-09-18  Lacerations to lower leg     N  10h43      NaN   \n",
       "\n",
       "                                 source  \\\n",
       "date                                      \n",
       "2016-09-18  Orlando Sentinel, 9/19/2016   \n",
       "2016-09-18  Orlando Sentinel, 9/19/2016   \n",
       "2016-09-18  Orlando Sentinel, 9/19/2016   \n",
       "\n",
       "                                                 locations  \n",
       "date                                                        \n",
       "2016-09-18  New Smyrna Beach, Volusia County, Florida, Usa  \n",
       "2016-09-18  New Smyrna Beach, Volusia County, Florida, Usa  \n",
       "2016-09-18  New Smyrna Beach, Volusia County, Florida, Usa  "
      ]
     },
     "execution_count": 25,
     "metadata": {},
     "output_type": "execute_result"
    }
   ],
   "source": [
    "# We would like to convert 'age' to numeric, but first we'll have to clean it up:\n",
    "\n",
    "#print(df['age'].value_counts())\n",
    "\n",
    "def clean_2d_age(string):\n",
    "    '''\n",
    "    Takes a string containing numbers and converts it to a one or two digits integer\n",
    "    '''\n",
    "    try:\n",
    "        pattern='\\d{1,2}' # using this pattern so we just find one or two digits\n",
    "        num = re.findall(pattern, string)[0]\n",
    "        return int(num)\n",
    "    except:\n",
    "        return None\n",
    "\n",
    "\n",
    "age = df['age'].apply(clean_2d_age).astype(int, errors='ignore')\n",
    "\n",
    "df['age'] = age\n",
    "\n",
    "df.head(3)\n",
    "\n"
   ]
  },
  {
   "cell_type": "markdown",
   "metadata": {},
   "source": [
    "## 'Fatal' column: Bool variables"
   ]
  },
  {
   "cell_type": "code",
   "execution_count": 26,
   "metadata": {
    "ExecuteTime": {
     "end_time": "2020-02-06T23:37:05.041055Z",
     "start_time": "2020-02-06T23:37:05.035049Z"
    },
    "code_folding": []
   },
   "outputs": [
    {
     "name": "stdout",
     "output_type": "stream",
     "text": [
      "N          3813\n",
      "Y          1227\n",
      "UNKNOWN      73\n",
      "nan          11\n",
      " N            8\n",
      "n             1\n",
      "#VALUE!       1\n",
      "N             1\n",
      "Name: fatal, dtype: int64\n"
     ]
    }
   ],
   "source": [
    "# We see 'fatal' column should behave as a boolean, so we transform it\n",
    "\n",
    "df['fatal'] = df['fatal'].astype(str)\n",
    "print(df['fatal'].value_counts())"
   ]
  },
  {
   "cell_type": "code",
   "execution_count": 27,
   "metadata": {
    "ExecuteTime": {
     "end_time": "2020-02-06T23:37:05.064559Z",
     "start_time": "2020-02-06T23:37:05.042479Z"
    }
   },
   "outputs": [
    {
     "data": {
      "text/plain": [
       "False    3908\n",
       "True     1227\n",
       "Name: fatal, dtype: int64"
      ]
     },
     "execution_count": 27,
     "metadata": {},
     "output_type": "execute_result"
    }
   ],
   "source": [
    "# Defining a function for assigning Yes/No to True/False with regex:\n",
    "\n",
    "def yn_to_tf(string):\n",
    "    '''\n",
    "    Analyzes a string using regex. If the string is Yes, return True.\n",
    "    If it is No, return False. For invalid data, return Nan\n",
    "    '''\n",
    "    if re.search('[Yy]{1}', string):\n",
    "        return True\n",
    "    elif re.search('nan', string):\n",
    "        return None\n",
    "    elif re.search('[Nn]{1}', string):\n",
    "        return False\n",
    "    else:\n",
    "        return None\n",
    "\n",
    "fatal = df['fatal'].apply(yn_to_tf)\n",
    "df['fatal'] = fatal.astype(bool)\n",
    "\n",
    "df['fatal'].value_counts()"
   ]
  },
  {
   "cell_type": "markdown",
   "metadata": {},
   "source": [
    "## Sex column: Categorical variables"
   ]
  },
  {
   "cell_type": "code",
   "execution_count": 28,
   "metadata": {
    "ExecuteTime": {
     "end_time": "2020-02-06T23:37:05.071071Z",
     "start_time": "2020-02-06T23:37:05.065955Z"
    }
   },
   "outputs": [],
   "source": [
    "df['sex'].value_counts()\n",
    "df['sex'] = df.sex.astype(str)"
   ]
  },
  {
   "cell_type": "code",
   "execution_count": 29,
   "metadata": {
    "ExecuteTime": {
     "end_time": "2020-02-06T23:37:05.086578Z",
     "start_time": "2020-02-06T23:37:05.072560Z"
    }
   },
   "outputs": [
    {
     "name": "stdout",
     "output_type": "stream",
     "text": [
      "male      4165\n",
      "female     519\n",
      "Name: sex, dtype: int64\n"
     ]
    }
   ],
   "source": [
    "# Similar treatment for 'sex' column:\n",
    "\n",
    "def mf_to_malefemale(string):\n",
    "    if re.search('[Mm]{1}', string):\n",
    "        sex = 'male'\n",
    "        return sex\n",
    "    elif re.search('[Ff]{1}', string):\n",
    "        sex = 'female'\n",
    "        return sex\n",
    "    else:\n",
    "        return None\n",
    "\n",
    "sex = df['sex'].apply(mf_to_malefemale)\n",
    "\n",
    "print(sex.value_counts())\n",
    "\n",
    "df['sex'] = sex"
   ]
  },
  {
   "cell_type": "code",
   "execution_count": 30,
   "metadata": {
    "ExecuteTime": {
     "end_time": "2020-02-06T23:37:05.099604Z",
     "start_time": "2020-02-06T23:37:05.087997Z"
    }
   },
   "outputs": [
    {
     "data": {
      "text/html": [
       "<div>\n",
       "<style scoped>\n",
       "    .dataframe tbody tr th:only-of-type {\n",
       "        vertical-align: middle;\n",
       "    }\n",
       "\n",
       "    .dataframe tbody tr th {\n",
       "        vertical-align: top;\n",
       "    }\n",
       "\n",
       "    .dataframe thead th {\n",
       "        text-align: right;\n",
       "    }\n",
       "</style>\n",
       "<table border=\"1\" class=\"dataframe\">\n",
       "  <thead>\n",
       "    <tr style=\"text-align: right;\">\n",
       "      <th></th>\n",
       "      <th>country</th>\n",
       "      <th>activity</th>\n",
       "      <th>name</th>\n",
       "      <th>sex</th>\n",
       "      <th>age</th>\n",
       "      <th>injury</th>\n",
       "      <th>fatal</th>\n",
       "      <th>time</th>\n",
       "      <th>species</th>\n",
       "      <th>source</th>\n",
       "      <th>locations</th>\n",
       "    </tr>\n",
       "    <tr>\n",
       "      <th>date</th>\n",
       "      <th></th>\n",
       "      <th></th>\n",
       "      <th></th>\n",
       "      <th></th>\n",
       "      <th></th>\n",
       "      <th></th>\n",
       "      <th></th>\n",
       "      <th></th>\n",
       "      <th></th>\n",
       "      <th></th>\n",
       "      <th></th>\n",
       "    </tr>\n",
       "  </thead>\n",
       "  <tbody>\n",
       "    <tr>\n",
       "      <td>2016-09-18</td>\n",
       "      <td>USA</td>\n",
       "      <td>Surfing</td>\n",
       "      <td>male</td>\n",
       "      <td>male</td>\n",
       "      <td>16.0</td>\n",
       "      <td>Minor injury to thigh</td>\n",
       "      <td>False</td>\n",
       "      <td>13h00</td>\n",
       "      <td>NaN</td>\n",
       "      <td>Orlando Sentinel, 9/19/2016</td>\n",
       "      <td>New Smyrna Beach, Volusia County, Florida, Usa</td>\n",
       "    </tr>\n",
       "    <tr>\n",
       "      <td>2016-09-18</td>\n",
       "      <td>USA</td>\n",
       "      <td>Surfing</td>\n",
       "      <td>Chucky Luciano</td>\n",
       "      <td>male</td>\n",
       "      <td>36.0</td>\n",
       "      <td>Lacerations to hands</td>\n",
       "      <td>False</td>\n",
       "      <td>11h00</td>\n",
       "      <td>NaN</td>\n",
       "      <td>Orlando Sentinel, 9/19/2016</td>\n",
       "      <td>New Smyrna Beach, Volusia County, Florida, Usa</td>\n",
       "    </tr>\n",
       "    <tr>\n",
       "      <td>2016-09-18</td>\n",
       "      <td>USA</td>\n",
       "      <td>Surfing</td>\n",
       "      <td>male</td>\n",
       "      <td>male</td>\n",
       "      <td>43.0</td>\n",
       "      <td>Lacerations to lower leg</td>\n",
       "      <td>False</td>\n",
       "      <td>10h43</td>\n",
       "      <td>NaN</td>\n",
       "      <td>Orlando Sentinel, 9/19/2016</td>\n",
       "      <td>New Smyrna Beach, Volusia County, Florida, Usa</td>\n",
       "    </tr>\n",
       "  </tbody>\n",
       "</table>\n",
       "</div>"
      ],
      "text/plain": [
       "           country activity            name   sex   age  \\\n",
       "date                                                      \n",
       "2016-09-18     USA  Surfing            male  male  16.0   \n",
       "2016-09-18     USA  Surfing  Chucky Luciano  male  36.0   \n",
       "2016-09-18     USA  Surfing            male  male  43.0   \n",
       "\n",
       "                              injury  fatal   time species   \\\n",
       "date                                                          \n",
       "2016-09-18     Minor injury to thigh  False  13h00      NaN   \n",
       "2016-09-18      Lacerations to hands  False  11h00      NaN   \n",
       "2016-09-18  Lacerations to lower leg  False  10h43      NaN   \n",
       "\n",
       "                                 source  \\\n",
       "date                                      \n",
       "2016-09-18  Orlando Sentinel, 9/19/2016   \n",
       "2016-09-18  Orlando Sentinel, 9/19/2016   \n",
       "2016-09-18  Orlando Sentinel, 9/19/2016   \n",
       "\n",
       "                                                 locations  \n",
       "date                                                        \n",
       "2016-09-18  New Smyrna Beach, Volusia County, Florida, Usa  \n",
       "2016-09-18  New Smyrna Beach, Volusia County, Florida, Usa  \n",
       "2016-09-18  New Smyrna Beach, Volusia County, Florida, Usa  "
      ]
     },
     "execution_count": 30,
     "metadata": {},
     "output_type": "execute_result"
    }
   ],
   "source": [
    "df.head(3)"
   ]
  },
  {
   "cell_type": "markdown",
   "metadata": {},
   "source": [
    "## Name column: Setting to NaN unwanted values"
   ]
  },
  {
   "cell_type": "code",
   "execution_count": 31,
   "metadata": {
    "ExecuteTime": {
     "end_time": "2020-02-06T23:37:05.109663Z",
     "start_time": "2020-02-06T23:37:05.101151Z"
    }
   },
   "outputs": [
    {
     "name": "stdout",
     "output_type": "stream",
     "text": [
      "object\n"
     ]
    }
   ],
   "source": [
    "# This column is far too complex to extract names, so we'll just mitigate some common invalid points:\n",
    "\n",
    "names = df['name'].astype(str)\n",
    "\n",
    "names.value_counts()\n",
    "\n",
    "print(names.astype(str).dtypes)"
   ]
  },
  {
   "cell_type": "code",
   "execution_count": 32,
   "metadata": {
    "ExecuteTime": {
     "end_time": "2020-02-06T23:37:05.118829Z",
     "start_time": "2020-02-06T23:37:05.111368Z"
    }
   },
   "outputs": [
    {
     "data": {
      "text/plain": [
       "male                                                                 367\n",
       "nan                                                                  145\n",
       "female                                                                68\n",
       "boy                                                                   16\n",
       "boat                                                                  12\n",
       "                                                                    ... \n",
       "Charlotte Brynn                                                        1\n",
       "Charles Hundley                                                        1\n",
       "13' dinghy, occupant S. Smith, Leenee Dee & Marie Farmer               1\n",
       "Doug Green                                                             1\n",
       "Haitian refugees perished when their boat capsized in choppy seas      1\n",
       "Name: name, Length: 4421, dtype: int64"
      ]
     },
     "execution_count": 32,
     "metadata": {},
     "output_type": "execute_result"
    }
   ],
   "source": [
    "# Extracting the most common values errors from value_counts:\n",
    "names.value_counts()"
   ]
  },
  {
   "cell_type": "code",
   "execution_count": 33,
   "metadata": {
    "ExecuteTime": {
     "end_time": "2020-02-06T23:37:05.136613Z",
     "start_time": "2020-02-06T23:37:05.120239Z"
    }
   },
   "outputs": [
    {
     "data": {
      "text/plain": [
       "black male                                                           4\n",
       "Russian male                                                         3\n",
       "2 women                                                              3\n",
       "unknown                                                              3\n",
       "3 males                                                              3\n",
       "                                                                    ..\n",
       "Charles Hundley                                                      1\n",
       "13' dinghy, occupant S. Smith, Leenee Dee & Marie Farmer             1\n",
       "Doug Green                                                           1\n",
       "George Vanderbilt                                                    1\n",
       "Haitian refugees perished when their boat capsized in choppy seas    1\n",
       "Name: names_clean, Length: 4409, dtype: int64"
      ]
     },
     "execution_count": 33,
     "metadata": {},
     "output_type": "execute_result"
    }
   ],
   "source": [
    "errors = names.value_counts().index.tolist()\n",
    "\n",
    "#We'll remove the 12 more common errors:\n",
    "errors = errors[:12]\n",
    "\n",
    "def delete_errors(name):\n",
    "    '''\n",
    "    Takes a series and sets to NONE al values found in a \n",
    "    list of values \"errors\"\n",
    "    '''\n",
    "    if name in errors:\n",
    "        return None\n",
    "    else:\n",
    "        return name\n",
    "    \n",
    "    \n",
    "df['names_clean'] = names.apply(delete_errors)\n",
    "\n",
    "df['names'] = df['names_clean']\n",
    "\n",
    "df['names_clean'].value_counts()\n",
    "\n"
   ]
  },
  {
   "cell_type": "code",
   "execution_count": 34,
   "metadata": {
    "ExecuteTime": {
     "end_time": "2020-02-06T23:37:05.141146Z",
     "start_time": "2020-02-06T23:37:05.138055Z"
    }
   },
   "outputs": [],
   "source": [
    "df.index = pd.to_datetime(df.index)"
   ]
  },
  {
   "cell_type": "markdown",
   "metadata": {
    "ExecuteTime": {
     "end_time": "2020-02-06T02:08:10.247982Z",
     "start_time": "2020-02-06T02:08:10.245728Z"
    }
   },
   "source": [
    "## Now we can delete all rows containing missing data points, and save the csv:"
   ]
  },
  {
   "cell_type": "code",
   "execution_count": 35,
   "metadata": {
    "ExecuteTime": {
     "end_time": "2020-02-06T23:37:05.234051Z",
     "start_time": "2020-02-06T23:37:05.142601Z"
    }
   },
   "outputs": [],
   "source": [
    "df_clean = df.dropna(axis=0)\n",
    "df_clean.shape\n",
    "df_clean.index = pd.to_datetime(df_clean.index)\n",
    "df.to_csv('Data/clean.csv')"
   ]
  },
  {
   "cell_type": "markdown",
   "metadata": {},
   "source": [
    "# Using the DataFrame"
   ]
  },
  {
   "cell_type": "markdown",
   "metadata": {},
   "source": [
    "Making a quick visualization for shark attack records over years:    "
   ]
  },
  {
   "cell_type": "code",
   "execution_count": 36,
   "metadata": {
    "ExecuteTime": {
     "end_time": "2020-02-06T23:37:05.584942Z",
     "start_time": "2020-02-06T23:37:05.235714Z"
    }
   },
   "outputs": [
    {
     "data": {
      "image/png": "[encoded data removed]",
      "text/plain": [
       "<Figure size 432x288 with 1 Axes>"
      ]
     },
     "metadata": {},
     "output_type": "display_data"
    }
   ],
   "source": [
    "register_matplotlib_converters()\n",
    "\n",
    "sns.set()\n",
    "df_plot = df_clean.resample('Y').count()\n",
    "plt.plot(df_plot)\n",
    "plt.title('Shark Attacks 1970 - 2016')\n",
    "plt.ylabel('Attacks')\n",
    "plt.xticks(rotation=45)\n",
    "plt.xlim('1-1-1970', '1-1-2016')\n",
    "plt.savefig('imgs/plot.jpg')\n",
    "plt.show()"
   ]
  }
 ],
 "metadata": {
  "kernelspec": {
   "display_name": "Python 3",
   "language": "python",
   "name": "python3"
  },
  "language_info": {
   "codemirror_mode": {
    "name": "ipython",
    "version": 3
   },
   "file_extension": ".py",
   "mimetype": "text/x-python",
   "name": "python",
   "nbconvert_exporter": "python",
   "pygments_lexer": "ipython3",
   "version": "3.7.4"
  },
  "toc": {
   "base_numbering": 1,
   "nav_menu": {},
   "number_sections": true,
   "sideBar": true,
   "skip_h1_title": false,
   "title_cell": "Table of Contents",
   "title_sidebar": "Contents",
   "toc_cell": false,
   "toc_position": {},
   "toc_section_display": true,
   "toc_window_display": false
  },
  "varInspector": {
   "cols": {
    "lenName": 16,
    "lenType": 16,
    "lenVar": 40
   },
   "kernels_config": {
    "python": {
     "delete_cmd_postfix": "",
     "delete_cmd_prefix": "del ",
     "library": "var_list.py",
     "varRefreshCmd": "print(var_dic_list())"
    },
    "r": {
     "delete_cmd_postfix": ") ",
     "delete_cmd_prefix": "rm(",
     "library": "var_list.r",
     "varRefreshCmd": "cat(var_dic_list()) "
    }
   },
   "types_to_exclude": [
    "module",
    "function",
    "builtin_function_or_method",
    "instance",
    "_Feature"
   ],
   "window_display": false
  }
 },
 "nbformat": 4,
 "nbformat_minor": 2
}
